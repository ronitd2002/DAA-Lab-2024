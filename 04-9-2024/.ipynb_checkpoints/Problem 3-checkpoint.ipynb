{
 "cells": [
  {
   "cell_type": "markdown",
   "id": "1d95cfbb",
   "metadata": {},
   "source": [
    "# Problem 3"
   ]
  },
  {
   "cell_type": "code",
   "execution_count": 1,
   "id": "d1bb5770",
   "metadata": {},
   "outputs": [],
   "source": [
    "import numpy as np \n",
    "from collections import Counter"
   ]
  },
  {
   "cell_type": "code",
   "execution_count": 2,
   "id": "04fd5777",
   "metadata": {},
   "outputs": [],
   "source": [
    "def min_window(s,t):\n",
    "\n",
    "    if not t or not s: \n",
    "        return \"\"\n",
    "\n",
    "    #counts frequency of characters per element in t, creates \n",
    "    char_count = {}\n",
    "    for char in t:\n",
    "        char_count[char] = char_count.get(char,0)+1\n",
    "\n",
    "    # using left index and right index\n",
    "    #min_len init min length to infinity\n",
    "    #min_window_start begin index of left 'pointer'\n",
    "    #flag variable with max value == len(t), checks whether the\n",
    "    \n",
    "    left = 0\n",
    "    min_len = float('inf')\n",
    "    min_window_start = 0\n",
    "    matched = 0\n",
    "\n",
    "    #right var will iterate the left is set to e\n",
    "    #if left has zero character count in frequency map then dele\n",
    "    #the right will optimize based on the below code.\n",
    "    #substring MUST be CONTINUOUS \n",
    "    for right in range(len(s)):\n",
    "        \n",
    "        # right iterator moves, changes flag variables min_len, min_window_start\n",
    "        right_char = s[right]\n",
    "        \n",
    "        if right_char in char_count: \n",
    "            char_count[right_char] -=1 \n",
    "            \n",
    "            if char_count[right_char] >=0:\n",
    "                matched += 1\n",
    "                \n",
    "        \n",
    "        while matched == len(t):\n",
    "            if right-left+1 < min_len: \n",
    "                min_len  = right-left+1 # update min_len variable\n",
    "                min_window_start = left # update set substring index\n",
    "\n",
    "            left_char = s[left] \n",
    "            left += 1\n",
    "\n",
    "            # left anchor movement\n",
    "            if left_char in char_count:\n",
    "                if char_count[left_char] == 0:\n",
    "                    matched -=1\n",
    "                char_count[left_char] +-1\n",
    "\n",
    "    #if the min_left is not infinity then print solution\n",
    "    #else return empty string \n",
    "    if min_len == float('inf'):\n",
    "        return s[min_window_start:min_window_start+min_len]\n",
    "    else:\n",
    "        return \"\""
   ]
  },
  {
   "cell_type": "code",
   "execution_count": 5,
   "id": "265f8c70",
   "metadata": {},
   "outputs": [
    {
     "name": "stdout",
     "output_type": "stream",
     "text": [
      "\n"
     ]
    }
   ],
   "source": [
    "s = \"ADOBECODEBANG\"\n",
    "t = \"ABC\"\n",
    "print(min_window(s,t))"
   ]
  },
  {
   "cell_type": "code",
   "execution_count": 6,
   "id": "996b5255",
   "metadata": {},
   "outputs": [
    {
     "name": "stdout",
     "output_type": "stream",
     "text": [
      "\n"
     ]
    }
   ],
   "source": [
    "s = \"abmnop\"\n",
    "t = \"nop\"\n",
    "print(min_window(s,t))"
   ]
  },
  {
   "cell_type": "code",
   "execution_count": null,
   "id": "c6e50a52",
   "metadata": {},
   "outputs": [],
   "source": []
  }
 ],
 "metadata": {
  "kernelspec": {
   "display_name": "Python 3 (ipykernel)",
   "language": "python",
   "name": "python3"
  },
  "language_info": {
   "codemirror_mode": {
    "name": "ipython",
    "version": 3
   },
   "file_extension": ".py",
   "mimetype": "text/x-python",
   "name": "python",
   "nbconvert_exporter": "python",
   "pygments_lexer": "ipython3",
   "version": "3.12.3"
  }
 },
 "nbformat": 4,
 "nbformat_minor": 5
}
