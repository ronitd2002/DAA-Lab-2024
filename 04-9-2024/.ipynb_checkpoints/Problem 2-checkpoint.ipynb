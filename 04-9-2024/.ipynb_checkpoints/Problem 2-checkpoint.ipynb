{
 "cells": [
  {
   "cell_type": "markdown",
   "id": "526a0c3d",
   "metadata": {},
   "source": [
    "# Problem 2"
   ]
  },
  {
   "cell_type": "code",
   "execution_count": 1,
   "id": "9c965ff2",
   "metadata": {},
   "outputs": [],
   "source": [
    "import numpy as np \n",
    "from collections import Counter"
   ]
  },
  {
   "cell_type": "code",
   "execution_count": 2,
   "id": "6665f435",
   "metadata": {},
   "outputs": [],
   "source": [
    "def rel_sort(arr1, arr2):\n",
    "\n",
    "    freq = Counter(arr1)\n",
    "    result=[]\n",
    "\n",
    "    for num in arr2:\n",
    "        if num in freq: \n",
    "            result.extend([num]*freq[num]) \n",
    "            del freq[num]\n",
    "\n",
    "    rem_el = sorted(freq.elements())\n",
    "    result.extend(rem_el) \n",
    "    arr1 = result\n",
    "\n",
    "    print(f\"array 1 is {arr1}\") \n",
    "    return arr1"
   ]
  },
  {
   "cell_type": "code",
   "execution_count": 3,
   "id": "d207921b",
   "metadata": {},
   "outputs": [
    {
     "name": "stdout",
     "output_type": "stream",
     "text": [
      "array 1 is [2, 2, 1, 8, 8, 3, 3, 5, 6, 7, 9]\n"
     ]
    }
   ],
   "source": [
    "arr1 = [2,3,2,5,7,1,9,3,6,8,8] \n",
    "arr2 = [2,1,8,3]\n",
    "\n",
    "res = rel_sort(arr1, arr2)"
   ]
  },
  {
   "cell_type": "code",
   "execution_count": 4,
   "id": "419409db",
   "metadata": {},
   "outputs": [
    {
     "data": {
      "text/plain": [
       "Counter({2: 2, 3: 2, 8: 2, 5: 1, 7: 1, 1: 1, 9: 1, 6: 1})"
      ]
     },
     "execution_count": 4,
     "metadata": {},
     "output_type": "execute_result"
    }
   ],
   "source": [
    "Counter(arr1)"
   ]
  },
  {
   "cell_type": "code",
   "execution_count": null,
   "id": "a528b0b9",
   "metadata": {},
   "outputs": [],
   "source": []
  }
 ],
 "metadata": {
  "kernelspec": {
   "display_name": "Python 3 (ipykernel)",
   "language": "python",
   "name": "python3"
  },
  "language_info": {
   "codemirror_mode": {
    "name": "ipython",
    "version": 3
   },
   "file_extension": ".py",
   "mimetype": "text/x-python",
   "name": "python",
   "nbconvert_exporter": "python",
   "pygments_lexer": "ipython3",
   "version": "3.12.3"
  }
 },
 "nbformat": 4,
 "nbformat_minor": 5
}
