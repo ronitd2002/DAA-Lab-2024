{
 "cells": [
  {
   "cell_type": "markdown",
   "id": "f9da1f6e",
   "metadata": {
    "slideshow": {
     "slide_type": "subslide"
    }
   },
   "source": [
    "# Bucket Sort\n",
    "\n",
    "1. Divide array into `len(array)` sized subarrays called **\"buckets\"**. Now these bucket's will have some interval range : `np.arange(min,max+1)/max-min`.\n",
    "2. Now sort each sub-array, which is simpler.\n",
    "3. Merge all subarrays."
   ]
  },
  {
   "cell_type": "code",
   "execution_count": 15,
   "id": "98c1ff1b",
   "metadata": {},
   "outputs": [
    {
     "data": {
      "text/plain": [
       "array([90, 25, 54, 23,  1, 17,  3, 14, 82,  9, 69, 61, 97, 60, 91, 43, 73,\n",
       "       31, 80, 86, 78, 48,  7, 76,  8])"
      ]
     },
     "execution_count": 15,
     "metadata": {},
     "output_type": "execute_result"
    }
   ],
   "source": [
    "import numpy as np\n",
    "\n",
    "rand = np.random.choice(100,25,replace=False)\n",
    "rand"
   ]
  },
  {
   "cell_type": "code",
   "execution_count": 16,
   "id": "586f13bf",
   "metadata": {},
   "outputs": [],
   "source": [
    "def bucketSort(arr):\n",
    "    max_val, min_val = max(arr), min(arr)\n",
    "    bucket_count = len(arr)\n",
    "    buckets = [[] for _ in range(bucket_count)]\n",
    "    \n",
    "    for num in arr:\n",
    "        index = (num - min_val) * (bucket_count - 1) // (max_val - min_val)\n",
    "        buckets[index].append(num)\n",
    "        \n",
    "    sorted_arr = []\n",
    "    for bucket in buckets:\n",
    "        sorted_arr.extend(sorted(bucket))\n",
    "    \n",
    "    return sorted_arr"
   ]
  },
  {
   "cell_type": "code",
   "execution_count": 17,
   "id": "af644e3b",
   "metadata": {},
   "outputs": [
    {
     "name": "stdout",
     "output_type": "stream",
     "text": [
      "Sorted array: [1, 3, 7, 8, 9, 14, 17, 23, 25, 31, 43, 48, 54, 60, 61, 69, 73, 76, 78, 80, 82, 86, 90, 91, 97]\n"
     ]
    }
   ],
   "source": [
    "sorted_arr = bucketSort(rand)\n",
    "print(\"Sorted array:\", sorted_arr)"
   ]
  },
  {
   "cell_type": "code",
   "execution_count": 18,
   "id": "faade15f",
   "metadata": {},
   "outputs": [
    {
     "data": {
      "text/plain": [
       "array([ True,  True,  True,  True,  True,  True,  True,  True,  True,\n",
       "        True,  True,  True,  True,  True,  True,  True,  True,  True,\n",
       "        True,  True,  True,  True,  True,  True,  True])"
      ]
     },
     "execution_count": 18,
     "metadata": {},
     "output_type": "execute_result"
    }
   ],
   "source": [
    "sorted_arr == np.sort(rand)"
   ]
  },
  {
   "cell_type": "code",
   "execution_count": null,
   "id": "29dbff9e",
   "metadata": {},
   "outputs": [],
   "source": []
  }
 ],
 "metadata": {
  "kernelspec": {
   "display_name": "Python 3 (ipykernel)",
   "language": "python",
   "name": "python3"
  },
  "language_info": {
   "codemirror_mode": {
    "name": "ipython",
    "version": 3
   },
   "file_extension": ".py",
   "mimetype": "text/x-python",
   "name": "python",
   "nbconvert_exporter": "python",
   "pygments_lexer": "ipython3",
   "version": "3.12.3"
  }
 },
 "nbformat": 4,
 "nbformat_minor": 5
}
