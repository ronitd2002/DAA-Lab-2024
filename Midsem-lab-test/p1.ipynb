{
 "cells": [
  {
   "cell_type": "markdown",
   "id": "f9d9603c-cf7a-4b3a-a181-2e409cff1aa1",
   "metadata": {},
   "source": [
    "# problem 1"
   ]
  },
  {
   "cell_type": "markdown",
   "id": "a81d5009-387c-4ac8-bdef-4c044b32d74a",
   "metadata": {},
   "source": [
    "You are given the weights and values of `N` items, along with a knapsack of capacity `W`. Your task is to fill the knapsack to maximiuze the total value. You can break the items if necessary. Return a double value representing the maximum possible value that can be stored in the knapsack."
   ]
  },
  {
   "cell_type": "code",
   "execution_count": 66,
   "id": "cd6cdb00-b459-4542-b21c-d2208a922d8f",
   "metadata": {},
   "outputs": [],
   "source": [
    "import numpy as np"
   ]
  },
  {
   "cell_type": "code",
   "execution_count": 77,
   "id": "e10e743c-96e6-4348-9b67-7706d670ffc0",
   "metadata": {},
   "outputs": [],
   "source": [
    "#wt = np.array([20,24,36,40,42])\n",
    "#val = np.array([12,35,41,25,32])\n",
    "wt = np.array([20,24,36,40,42])\n",
    "val = np.array([12,35,41,25,32])\n",
    "#print(max(wt))"
   ]
  },
  {
   "cell_type": "code",
   "execution_count": 78,
   "id": "71bf297c-b9a7-433d-bbe8-28a93b356d74",
   "metadata": {},
   "outputs": [
    {
     "data": {
      "text/plain": [
       "array([12.2 , 25.4 , 32.42, 35.24, 41.36])"
      ]
     },
     "execution_count": 78,
     "metadata": {},
     "output_type": "execute_result"
    }
   ],
   "source": [
    "encode= val + wt/(10**2)\n",
    "encode = np.sort(encode)\n",
    "encode"
   ]
  },
  {
   "cell_type": "code",
   "execution_count": 69,
   "id": "3595346d-3b88-4b71-9ae0-6f8ba02645e0",
   "metadata": {},
   "outputs": [
    {
     "name": "stdout",
     "output_type": "stream",
     "text": [
      "[0.2  0.4  0.42 0.24 0.36]\n",
      "[12. 25. 32. 35. 41.]\n"
     ]
    }
   ],
   "source": [
    "enc_wts = np.modf(encode)\n",
    "print(enc_wts[0])\n",
    "print(enc_wts[1])"
   ]
  },
  {
   "cell_type": "code",
   "execution_count": 70,
   "id": "d9def500-6f87-4831-be65-5e63229c66ea",
   "metadata": {},
   "outputs": [
    {
     "name": "stdout",
     "output_type": "stream",
     "text": [
      "index = 2, residue = 0.020000000000003126, fin = 1.0200000000000031\n"
     ]
    }
   ],
   "source": [
    "index = 0\n",
    "residue = 0\n",
    "fin = 0\n",
    "for i in range(len(vsort)):\n",
    "    fin += enc_wts[0][-i-1]\n",
    "    index = i\n",
    "    residue = fin - 1\n",
    "    if fin > 1:\n",
    "        break\n",
    "print(f\"index = {index}, residue = {residue}, fin = {fin}\")"
   ]
  },
  {
   "cell_type": "code",
   "execution_count": 71,
   "id": "4c46abf5-9ef8-4b4b-9c8c-b53b7416df44",
   "metadata": {
    "scrolled": true
   },
   "outputs": [],
   "source": [
    "enc_wts[1][index]  = (enc_wts[0][index] - residue)/enc_wts[0][index] * enc_wts[1][index]"
   ]
  },
  {
   "cell_type": "code",
   "execution_count": 72,
   "id": "b7d6a589-786a-4acc-b0f9-b971caf6efb2",
   "metadata": {},
   "outputs": [],
   "source": [
    "index = 0\n",
    "residue = 0\n",
    "fin = 0\n",
    "valsum = 0\n",
    "for i in range(len(vsort)):\n",
    "    fin += enc_wts[0][-i-1]\n",
    "    index = i\n",
    "    residue = fin - 1\n",
    "    valsum += enc_wts[1][-i-1]\n",
    "    if fin > 1:\n",
    "        break"
   ]
  },
  {
   "cell_type": "code",
   "execution_count": 74,
   "id": "7bacac8c-1fa9-4ca1-b883-d0c632ea6aa7",
   "metadata": {},
   "outputs": [
    {
     "data": {
      "text/plain": [
       "106.47619047619024"
      ]
     },
     "execution_count": 74,
     "metadata": {},
     "output_type": "execute_result"
    }
   ],
   "source": [
    "valsum"
   ]
  },
  {
   "cell_type": "code",
   "execution_count": null,
   "id": "47db2f74-ba90-4c28-ba2b-6529aabfde2c",
   "metadata": {},
   "outputs": [],
   "source": []
  }
 ],
 "metadata": {
  "kernelspec": {
   "display_name": "Python 3 (ipykernel)",
   "language": "python",
   "name": "python3"
  },
  "language_info": {
   "codemirror_mode": {
    "name": "ipython",
    "version": 3
   },
   "file_extension": ".py",
   "mimetype": "text/x-python",
   "name": "python",
   "nbconvert_exporter": "python",
   "pygments_lexer": "ipython3",
   "version": "3.11.5"
  }
 },
 "nbformat": 4,
 "nbformat_minor": 5
}
