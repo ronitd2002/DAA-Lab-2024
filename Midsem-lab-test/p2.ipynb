{
 "cells": [
  {
   "cell_type": "markdown",
   "id": "dba598d4-b0ec-4646-b747-022840b041d7",
   "metadata": {},
   "source": [
    "# problem 2"
   ]
  },
  {
   "cell_type": "markdown",
   "id": "488437fb-3692-40d3-8861-0c0a1bd5ecd1",
   "metadata": {},
   "source": [
    "You are given an mxn integer matrix with the following two properties:\n",
    " * Each row is sorted in ascending order\n",
    " * The first integer of each row is greater than the last integer of the previous row.\n",
    "\n",
    "Given an integer **target**, return TRUE if the target exists in the matrix, otherwise return FALSE."
   ]
  },
  {
   "cell_type": "code",
   "execution_count": 57,
   "id": "d4d97c49-997c-4e3c-aa8b-62515f0b07ff",
   "metadata": {},
   "outputs": [],
   "source": [
    "import numpy as np"
   ]
  },
  {
   "cell_type": "code",
   "execution_count": 58,
   "id": "004a2626-b2de-4840-a742-7a467757c97f",
   "metadata": {},
   "outputs": [],
   "source": [
    "# use binary search like algorithm\n",
    "# parameters m*n\n",
    "\n",
    "arr = [[1,3,5,7],\n",
    "       [10,11,16,20],\n",
    "       [23,30,34,60]\n",
    "      ]\n",
    "# target = 3"
   ]
  },
  {
   "cell_type": "code",
   "execution_count": 59,
   "id": "25d0ae75-e05e-45c6-a87a-faa3c5e617df",
   "metadata": {},
   "outputs": [],
   "source": [
    "def search(arr, target):\n",
    "    for i in range(len(arr)):\n",
    "        if arr[i] == target:\n",
    "            return True\n",
    "    return False"
   ]
  },
  {
   "cell_type": "code",
   "execution_count": 60,
   "id": "5c0aea7e-6c5c-4bba-adbc-4c38409b3e19",
   "metadata": {},
   "outputs": [],
   "source": [
    "def algo(arr, target):\n",
    "    base = []\n",
    "    for i in range(len(arr)):\n",
    "            base.append(arr[i][0])\n",
    "\n",
    "    index = 'inf'\n",
    "    for i in range(len(base)):\n",
    "        if base[i] >= target:\n",
    "            index = i-1\n",
    "            break\n",
    "\n",
    "    return search(arr[index],target)"
   ]
  },
  {
   "cell_type": "code",
   "execution_count": 61,
   "id": "bf197d54-9b3b-461d-b647-30aa03ba4d35",
   "metadata": {},
   "outputs": [
    {
     "data": {
      "text/plain": [
       "True"
      ]
     },
     "execution_count": 61,
     "metadata": {},
     "output_type": "execute_result"
    }
   ],
   "source": [
    "algo(arr,3)"
   ]
  },
  {
   "cell_type": "code",
   "execution_count": 62,
   "id": "1ece7fca-7acc-47ea-b6e7-58ccc3ffcc98",
   "metadata": {},
   "outputs": [
    {
     "name": "stdout",
     "output_type": "stream",
     "text": [
      "The search result is: False\n"
     ]
    }
   ],
   "source": [
    "print(f\"The search result is: {algo(arr, 17)}\")"
   ]
  },
  {
   "cell_type": "code",
   "execution_count": 63,
   "id": "c0c49561-3ff7-46d5-945f-e6792bc10776",
   "metadata": {},
   "outputs": [
    {
     "name": "stdout",
     "output_type": "stream",
     "text": [
      "The search result is: True\n"
     ]
    }
   ],
   "source": [
    "print(f\"The search result is: {algo(arr, 16)}\")"
   ]
  },
  {
   "cell_type": "code",
   "execution_count": null,
   "id": "2b7e5c06-c98e-4f9c-b591-02ec6a77781e",
   "metadata": {},
   "outputs": [],
   "source": []
  }
 ],
 "metadata": {
  "kernelspec": {
   "display_name": "Python 3 (ipykernel)",
   "language": "python",
   "name": "python3"
  },
  "language_info": {
   "codemirror_mode": {
    "name": "ipython",
    "version": 3
   },
   "file_extension": ".py",
   "mimetype": "text/x-python",
   "name": "python",
   "nbconvert_exporter": "python",
   "pygments_lexer": "ipython3",
   "version": "3.11.5"
  }
 },
 "nbformat": 4,
 "nbformat_minor": 5
}
