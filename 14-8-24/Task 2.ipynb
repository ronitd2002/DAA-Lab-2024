{
 "cells": [
  {
   "cell_type": "code",
   "execution_count": 8,
   "id": "f6fcb9f8-940c-495f-a58b-4377f80bedab",
   "metadata": {},
   "outputs": [],
   "source": [
    "import numpy as np\n",
    "import matplotlib.pyplot as plt"
   ]
  },
  {
   "cell_type": "code",
   "execution_count": 9,
   "id": "12046462-f2a0-4610-b84d-31d7013624a8",
   "metadata": {},
   "outputs": [],
   "source": [
    "def partition_left(arr, low, high):\n",
    "    pivot = arr[high]\n",
    "    i = low\n",
    "    for j in range(low, high):\n",
    "        if arr[j] <= pivot:\n",
    "            arr[i], arr[j] = arr[j], arr[i]\n",
    "            i += 1\n",
    "    arr[i], arr[high] = arr[high], arr[i]\n",
    "    return i\n",
    "\n",
    "def partition_right(arr, low, high):\n",
    "    return partition_left(arr, low, high)\n",
    "\n",
    "def quicksort_ps(arr, low, high, key):\n",
    "    if low < high:\n",
    "        p = partition_right(arr, low, high)\n",
    "        if p <= key:\n",
    "            quicksort_ps(arr, low, p - 1,key)\n",
    "        elif p > key:\n",
    "            quicksort_ps(arr, p + 1, high,key)"
   ]
  },
  {
   "cell_type": "code",
   "execution_count": 10,
   "id": "5d63d4ef-49bb-43e2-b392-41ed342db1fb",
   "metadata": {},
   "outputs": [],
   "source": [
    "def kth_c(input,k):\n",
    "    quicksort_ps(input,0,len(input)-1,k)\n",
    "    return input"
   ]
  },
  {
   "cell_type": "code",
   "execution_count": 11,
   "id": "aabdd543-6980-498f-a90c-a4e37c1da7b1",
   "metadata": {},
   "outputs": [
    {
     "data": {
      "text/plain": [
       "[3, 2, 1, 4, 5, 6]"
      ]
     },
     "execution_count": 11,
     "metadata": {},
     "output_type": "execute_result"
    }
   ],
   "source": [
    "input = [3,2,1,5,6,4]\n",
    "k = 2\n",
    "kth_c(input,k)"
   ]
  },
  {
   "cell_type": "markdown",
   "id": "5e5e62d2-69a8-415a-8c8c-8b71c954ffc9",
   "metadata": {},
   "source": [
    "##### TESTCASE"
   ]
  },
  {
   "cell_type": "code",
   "execution_count": 12,
   "id": "cd8a8b92-769d-4c77-934e-8ee8a24a5525",
   "metadata": {},
   "outputs": [
    {
     "name": "stdout",
     "output_type": "stream",
     "text": [
      "23\n"
     ]
    }
   ],
   "source": [
    "#testcase = [11,7,8,8,8,9]\n",
    "testcase = [9,7,23,90,-23,0]\n",
    "#k_test = 3\n",
    "k_test = 4\n",
    "kth_c(testcase,k_test)\n",
    "print(testcase[-k_test])"
   ]
  },
  {
   "cell_type": "code",
   "execution_count": 13,
   "id": "ac295747-cbb5-483c-b184-b52caef2517b",
   "metadata": {},
   "outputs": [
    {
     "name": "stdout",
     "output_type": "stream",
     "text": [
      "8\n"
     ]
    }
   ],
   "source": [
    "testcase = [11,7,8,8,8,9]\n",
    "k_test = 3\n",
    "kth_c(testcase,k_test)\n",
    "print(testcase[-k_test])"
   ]
  },
  {
   "cell_type": "code",
   "execution_count": 14,
   "id": "93607029-f30b-4406-a204-251dbe59fb84",
   "metadata": {},
   "outputs": [
    {
     "name": "stdout",
     "output_type": "stream",
     "text": [
      "6\n"
     ]
    }
   ],
   "source": [
    "testcase = [1,2,3,4,5,6,7]\n",
    "k_test = 2\n",
    "kth_c(testcase,k_test)\n",
    "print(testcase[-k_test])"
   ]
  },
  {
   "cell_type": "code",
   "execution_count": null,
   "id": "05829be0-586d-47f2-8ac3-34ad38e2ee97",
   "metadata": {},
   "outputs": [],
   "source": []
  }
 ],
 "metadata": {
  "kernelspec": {
   "display_name": "Python 3 (ipykernel)",
   "language": "python",
   "name": "python3"
  },
  "language_info": {
   "codemirror_mode": {
    "name": "ipython",
    "version": 3
   },
   "file_extension": ".py",
   "mimetype": "text/x-python",
   "name": "python",
   "nbconvert_exporter": "python",
   "pygments_lexer": "ipython3",
   "version": "3.11.5"
  }
 },
 "nbformat": 4,
 "nbformat_minor": 5
}
