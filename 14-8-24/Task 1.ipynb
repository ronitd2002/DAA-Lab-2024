{
 "cells": [
  {
   "cell_type": "code",
   "execution_count": 1,
   "id": "e4fbd58b-82c6-40e4-8483-84f79612cc84",
   "metadata": {},
   "outputs": [],
   "source": [
    "import numpy as np\n",
    "import matplotlib.pyplot as plt"
   ]
  },
  {
   "cell_type": "code",
   "execution_count": 22,
   "id": "d3703b7d-12d3-48e4-8f92-b887e51bed4a",
   "metadata": {},
   "outputs": [],
   "source": [
    "def partition_left(arr, low, high):\n",
    "    pivot = arr[high]\n",
    "    i = low\n",
    "    for j in range(low, high):\n",
    "        if arr[j] <= pivot:\n",
    "            arr[i], arr[j] = arr[j], arr[i]\n",
    "            i += 1\n",
    "    arr[i], arr[high] = arr[high], arr[i]\n",
    "    return i\n",
    "\n",
    "# Function to perform random partition for randomized pivot selection\n",
    "def partition_right(arr, low, high):\n",
    "    r = np.random.randint(low, high) # random pivot not necessarily the last element of the array\n",
    "    arr[r], arr[high] = arr[high], arr[r]\n",
    "    return partition_left(arr, low, high)\n",
    "\n",
    "# Recursive function for quicksort that partitions the array after the pivot is set in the correct position\n",
    "def quicksort(arr, low, high):\n",
    "    if low < high:\n",
    "        p = partition_right(arr, low, high)\n",
    "        quicksort(arr, low, p - 1)\n",
    "        quicksort(arr, p + 1, high)"
   ]
  },
  {
   "cell_type": "code",
   "execution_count": 26,
   "id": "447ef6ae-41b6-4394-a8c0-6dc3f801a1e2",
   "metadata": {},
   "outputs": [],
   "source": [
    "def mp2(input):\n",
    "    quicksort(input,0,len(input)-1)\n",
    "    sl = input[-3]*input[-2]*input[-1]\n",
    "    sf = input[0]*input[1]*input[-1]\n",
    "    if sl>sf:\n",
    "        return sl\n",
    "    else:\n",
    "        return sf"
   ]
  },
  {
   "cell_type": "code",
   "execution_count": 29,
   "id": "3f03be6c-9fb2-4d6c-aec6-10d4804553a1",
   "metadata": {},
   "outputs": [
    {
     "name": "stdout",
     "output_type": "stream",
     "text": [
      "6\n",
      "24\n",
      "-6\n"
     ]
    }
   ],
   "source": [
    "print(mp2([1,2,3]))\n",
    "print(mp2([1,2,3,4]))\n",
    "print(mp2([-1,-2,-3]))"
   ]
  },
  {
   "cell_type": "code",
   "execution_count": 30,
   "id": "e27830ec-f614-4737-8036-114714200593",
   "metadata": {},
   "outputs": [
    {
     "name": "stdout",
     "output_type": "stream",
     "text": [
      "120\n"
     ]
    }
   ],
   "source": [
    "input_new = [-3,-5,8,1,1,1]\n",
    "print(mp2(input_new))"
   ]
  },
  {
   "cell_type": "code",
   "execution_count": 31,
   "id": "8b17f829-8824-4d08-814f-ce5e6fde9ea6",
   "metadata": {},
   "outputs": [
    {
     "name": "stdout",
     "output_type": "stream",
     "text": [
      "270\n"
     ]
    }
   ],
   "source": [
    "input_2 = [2,6,0,-5,-6,9]\n",
    "print(mp2(input_2))"
   ]
  },
  {
   "cell_type": "code",
   "execution_count": null,
   "id": "8726b676-921a-4c58-98a4-0b35844f167a",
   "metadata": {},
   "outputs": [],
   "source": []
  }
 ],
 "metadata": {
  "kernelspec": {
   "display_name": "Python 3 (ipykernel)",
   "language": "python",
   "name": "python3"
  },
  "language_info": {
   "codemirror_mode": {
    "name": "ipython",
    "version": 3
   },
   "file_extension": ".py",
   "mimetype": "text/x-python",
   "name": "python",
   "nbconvert_exporter": "python",
   "pygments_lexer": "ipython3",
   "version": "3.11.5"
  }
 },
 "nbformat": 4,
 "nbformat_minor": 5
}
