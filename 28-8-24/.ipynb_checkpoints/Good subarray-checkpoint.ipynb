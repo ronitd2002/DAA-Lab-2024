{
 "cells": [
  {
   "cell_type": "code",
   "execution_count": 1,
   "id": "c8646faf",
   "metadata": {},
   "outputs": [],
   "source": [
    "# Helper function to count subarrays with at most k distinct integers\n",
    "def atMostKDistinct(arr, k):\n",
    "    count = 0\n",
    "    left = 0\n",
    "    freq = {}\n",
    "    \n",
    "    for right in range(len(arr)):\n",
    "        # Add the current element to the frequency dictionary\n",
    "        if arr[right] in freq:\n",
    "            freq[arr[right]] += 1\n",
    "        else:\n",
    "            freq[arr[right]] = 1\n",
    "        \n",
    "        # If we have more than k distinct integers, shrink the window from the left\n",
    "        while len(freq) > k:\n",
    "            freq[arr[left]] -= 1\n",
    "            if freq[arr[left]] == 0:\n",
    "                del freq[arr[left]]\n",
    "            left += 1\n",
    "        \n",
    "        # Count subarrays ending at right with at most k distinct integers\n",
    "        count += right - left + 1\n",
    "\n",
    "    return count"
   ]
  },
  {
   "cell_type": "code",
   "execution_count": 2,
   "id": "b3577809",
   "metadata": {},
   "outputs": [],
   "source": [
    "# Main function to find subarrays with exactly k distinct integers\n",
    "def subarraysWithKDistinct(arr, k):\n",
    "    # Subarrays with exactly k distinct = subarrays with at most k distinct - subarrays with at most (k - 1) distinct\n",
    "    return atMostKDistinct(arr, k) - atMostKDistinct(arr, k - 1)"
   ]
  },
  {
   "cell_type": "code",
   "execution_count": 3,
   "id": "885ffb7f",
   "metadata": {},
   "outputs": [
    {
     "name": "stdout",
     "output_type": "stream",
     "text": [
      "Output for Example 1: 7\n"
     ]
    }
   ],
   "source": [
    "# Example usage\n",
    "arr1 = [1, 2, 1, 2, 3]\n",
    "k1 = 2\n",
    "print(\"Output for Example 1:\", subarraysWithKDistinct(arr1, k1))  # Output: 7"
   ]
  },
  {
   "cell_type": "code",
   "execution_count": 4,
   "id": "7433d81a",
   "metadata": {},
   "outputs": [
    {
     "name": "stdout",
     "output_type": "stream",
     "text": [
      "Output for Example 2: 3\n"
     ]
    }
   ],
   "source": [
    "arr2 = [1, 2, 1, 3, 4]\n",
    "k2 = 3\n",
    "print(\"Output for Example 2:\", subarraysWithKDistinct(arr2, k2))  # Output: 3"
   ]
  },
  {
   "cell_type": "code",
   "execution_count": null,
   "id": "e4f85222",
   "metadata": {},
   "outputs": [],
   "source": []
  }
 ],
 "metadata": {
  "kernelspec": {
   "display_name": "Python 3 (ipykernel)",
   "language": "python",
   "name": "python3"
  },
  "language_info": {
   "codemirror_mode": {
    "name": "ipython",
    "version": 3
   },
   "file_extension": ".py",
   "mimetype": "text/x-python",
   "name": "python",
   "nbconvert_exporter": "python",
   "pygments_lexer": "ipython3",
   "version": "3.12.3"
  }
 },
 "nbformat": 4,
 "nbformat_minor": 5
}
