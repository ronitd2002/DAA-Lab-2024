{
 "cells": [
  {
   "cell_type": "code",
   "execution_count": 3,
   "id": "98c1ff1b",
   "metadata": {},
   "outputs": [
    {
     "data": {
      "text/plain": [
       "array([13, 10, 75, 79, 19, 68, 17,  1, 97, 96,  7, 24, 11, 16, 78, 59, 18,\n",
       "       52,  0, 54, 53, 95, 20, 40, 43, 26, 35, 85, 36, 72, 82,  5, 88, 21,\n",
       "       93, 86,  3, 89, 81, 58, 60, 44, 47, 48, 32, 71, 55, 90, 83, 45])"
      ]
     },
     "execution_count": 3,
     "metadata": {},
     "output_type": "execute_result"
    }
   ],
   "source": [
    "import numpy as np\n",
    "\n",
    "rand = np.random.choice(100,50,replace=False)\n",
    "rand"
   ]
  },
  {
   "cell_type": "code",
   "execution_count": 4,
   "id": "586f13bf",
   "metadata": {},
   "outputs": [],
   "source": [
    "def bucketSort(arr):\n",
    "    max_val, min_val = max(arr), min(arr)\n",
    "    bucket_count = len(arr)\n",
    "    buckets = [[] for _ in range(bucket_count)]\n",
    "    \n",
    "    for num in arr:\n",
    "        index = (num - min_val) * (bucket_count - 1) // (max_val - min_val)\n",
    "        buckets[index].append(num)\n",
    "        \n",
    "    sorted_arr = []\n",
    "    for bucket in buckets:\n",
    "        sorted_arr.extend(sorted(bucket))\n",
    "    \n",
    "    return sorted_arr"
   ]
  },
  {
   "cell_type": "code",
   "execution_count": 5,
   "id": "af644e3b",
   "metadata": {},
   "outputs": [
    {
     "name": "stdout",
     "output_type": "stream",
     "text": [
      "Sorted array: [0, 1, 3, 5, 7, 10, 11, 13, 16, 17, 18, 19, 20, 21, 24, 26, 32, 35, 36, 40, 43, 44, 45, 47, 48, 52, 53, 54, 55, 58, 59, 60, 68, 71, 72, 75, 78, 79, 81, 82, 83, 85, 86, 88, 89, 90, 93, 95, 96, 97]\n"
     ]
    }
   ],
   "source": [
    "sorted_arr = bucketSort(rand)\n",
    "print(\"Sorted array:\", sorted_arr)"
   ]
  },
  {
   "cell_type": "code",
   "execution_count": 6,
   "id": "faade15f",
   "metadata": {},
   "outputs": [
    {
     "data": {
      "text/plain": [
       "array([ True,  True,  True,  True,  True,  True,  True,  True,  True,\n",
       "        True,  True,  True,  True,  True,  True,  True,  True,  True,\n",
       "        True,  True,  True,  True,  True,  True,  True,  True,  True,\n",
       "        True,  True,  True,  True,  True,  True,  True,  True,  True,\n",
       "        True,  True,  True,  True,  True,  True,  True,  True,  True,\n",
       "        True,  True,  True,  True,  True])"
      ]
     },
     "execution_count": 6,
     "metadata": {},
     "output_type": "execute_result"
    }
   ],
   "source": [
    "sorted_arr == np.sort(rand)"
   ]
  },
  {
   "cell_type": "code",
   "execution_count": null,
   "id": "29dbff9e",
   "metadata": {},
   "outputs": [],
   "source": []
  }
 ],
 "metadata": {
  "kernelspec": {
   "display_name": "Python 3 (ipykernel)",
   "language": "python",
   "name": "python3"
  },
  "language_info": {
   "codemirror_mode": {
    "name": "ipython",
    "version": 3
   },
   "file_extension": ".py",
   "mimetype": "text/x-python",
   "name": "python",
   "nbconvert_exporter": "python",
   "pygments_lexer": "ipython3",
   "version": "3.12.3"
  }
 },
 "nbformat": 4,
 "nbformat_minor": 5
}
