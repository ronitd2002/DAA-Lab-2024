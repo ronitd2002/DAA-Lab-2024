{
 "cells": [
  {
   "cell_type": "markdown",
   "id": "d46103ab",
   "metadata": {},
   "source": [
    "# Counting sort algorithm\n",
    "\n",
    "1. It is a stable sort algorithm.\n",
    "2. Once we have an array build an array with `max(array)-min(array)` number of elements.\n",
    "3. Then place elements based on their occurence index. So if the array is `[7,4,2,8,1,2,6,0,5,3]` in that case build an array of 9 elements `(max -min +1)`. Then make a count array - `[1,1,2,1,1,1,1,1,1]` = `[1,2,4,5,6,7,8,9,10]`\n",
    "5. Then start from **last element** -> 3 which is at the 5th index. Place 3 in the 5th index of output array then, and reduce the 5th index of count array by 1. Keep going like this and achieve final output array."
   ]
  },
  {
   "cell_type": "code",
   "execution_count": 28,
   "id": "1111a704",
   "metadata": {},
   "outputs": [
    {
     "data": {
      "text/plain": [
       "array([94, 61, 57, 71,  8, 99, 45, 95, 62, 70, 59, 86,  0, 49, 47, 52, 28,\n",
       "       30, 12,  1, 37,  3, 33, 82, 10, 98, 29, 17, 96,  4, 20, 93,  5, 11,\n",
       "       91, 50, 31, 23, 35, 92,  9, 69, 22, 68, 46, 75, 34, 79, 18, 83])"
      ]
     },
     "execution_count": 28,
     "metadata": {},
     "output_type": "execute_result"
    }
   ],
   "source": [
    "import numpy as np\n",
    "\n",
    "rand = np.random.choice(100,50,replace=False)\n",
    "rand"
   ]
  },
  {
   "cell_type": "code",
   "execution_count": 29,
   "id": "5333dbb9",
   "metadata": {},
   "outputs": [],
   "source": [
    "def countingSort(arr):\n",
    "    max_val = max(arr)\n",
    "    min_val = min(arr)\n",
    "    e_range = max_val - min_val + 1\n",
    "    count = [0] * e_range\n",
    "    output = [0] * len(arr)\n",
    "    \n",
    "    for num in arr:\n",
    "        count[num - min_val] += 1\n",
    "    \n",
    "    for i in range(1, e_range):\n",
    "        count[i] += count[i - 1]\n",
    "    \n",
    "    for num in reversed(arr):\n",
    "        output[count[num - min_val] - 1] = num\n",
    "        count[num - min_val] -= 1\n",
    "    \n",
    "    return output"
   ]
  },
  {
   "cell_type": "code",
   "execution_count": 30,
   "id": "3cfbafe5",
   "metadata": {},
   "outputs": [
    {
     "name": "stdout",
     "output_type": "stream",
     "text": [
      "Sorted array: [0, 1, 3, 4, 5, 8, 9, 10, 11, 12, 17, 18, 20, 22, 23, 28, 29, 30, 31, 33, 34, 35, 37, 45, 46, 47, 49, 50, 52, 57, 59, 61, 62, 68, 69, 70, 71, 75, 79, 82, 83, 86, 91, 92, 93, 94, 95, 96, 98, 99]\n"
     ]
    }
   ],
   "source": [
    "sorted_arr = countingSort(rand)\n",
    "print(\"Sorted array:\", sorted_arr)"
   ]
  },
  {
   "cell_type": "markdown",
   "id": "0a569c0b",
   "metadata": {},
   "source": [
    "Check if our solution is correct or not using python's sort"
   ]
  },
  {
   "cell_type": "code",
   "execution_count": 32,
   "id": "4d576c55",
   "metadata": {},
   "outputs": [
    {
     "data": {
      "text/plain": [
       "True"
      ]
     },
     "execution_count": 32,
     "metadata": {},
     "output_type": "execute_result"
    }
   ],
   "source": [
    "sorted_arr == sorted(rand)"
   ]
  },
  {
   "cell_type": "code",
   "execution_count": null,
   "id": "f2aac57b",
   "metadata": {},
   "outputs": [],
   "source": []
  }
 ],
 "metadata": {
  "kernelspec": {
   "display_name": "Python 3 (ipykernel)",
   "language": "python",
   "name": "python3"
  },
  "language_info": {
   "codemirror_mode": {
    "name": "ipython",
    "version": 3
   },
   "file_extension": ".py",
   "mimetype": "text/x-python",
   "name": "python",
   "nbconvert_exporter": "python",
   "pygments_lexer": "ipython3",
   "version": "3.12.3"
  }
 },
 "nbformat": 4,
 "nbformat_minor": 5
}
