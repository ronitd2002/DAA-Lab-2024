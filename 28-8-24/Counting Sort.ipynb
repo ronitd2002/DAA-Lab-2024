{
 "cells": [
  {
   "cell_type": "code",
   "execution_count": 1,
   "id": "1111a704",
   "metadata": {},
   "outputs": [
    {
     "data": {
      "text/plain": [
       "array([43,  9, 88, 72, 86, 97,  5, 23, 60, 68, 55, 84, 99, 14, 65, 48, 92,\n",
       "       42, 52, 71, 31, 58, 21, 19, 80, 47, 18,  7, 83, 46, 77, 54, 59, 94,\n",
       "       30, 81, 41, 50, 13, 69, 10, 35, 74,  6, 93, 67, 15, 64, 25, 76])"
      ]
     },
     "execution_count": 1,
     "metadata": {},
     "output_type": "execute_result"
    }
   ],
   "source": [
    "import numpy as np\n",
    "\n",
    "rand = np.random.choice(100,50,replace=False)\n",
    "rand"
   ]
  },
  {
   "cell_type": "code",
   "execution_count": 2,
   "id": "5333dbb9",
   "metadata": {},
   "outputs": [],
   "source": [
    "def countingSort(arr):\n",
    "    max_val = max(arr)\n",
    "    min_val = min(arr)\n",
    "    range_of_elements = max_val - min_val + 1\n",
    "    count = [0] * range_of_elements\n",
    "    output = [0] * len(arr)\n",
    "    \n",
    "    # Store the count of each element\n",
    "    for num in arr:\n",
    "        count[num - min_val] += 1\n",
    "    \n",
    "    # Update count array\n",
    "    for i in range(1, range_of_elements):\n",
    "        count[i] += count[i - 1]\n",
    "    \n",
    "    # Build the output array\n",
    "    for num in reversed(arr):\n",
    "        output[count[num - min_val] - 1] = num\n",
    "        count[num - min_val] -= 1\n",
    "    \n",
    "    return output"
   ]
  },
  {
   "cell_type": "code",
   "execution_count": 4,
   "id": "3cfbafe5",
   "metadata": {},
   "outputs": [
    {
     "name": "stdout",
     "output_type": "stream",
     "text": [
      "Sorted array: [5, 6, 7, 9, 10, 13, 14, 15, 18, 19, 21, 23, 25, 30, 31, 35, 41, 42, 43, 46, 47, 48, 50, 52, 54, 55, 58, 59, 60, 64, 65, 67, 68, 69, 71, 72, 74, 76, 77, 80, 81, 83, 84, 86, 88, 92, 93, 94, 97, 99]\n"
     ]
    }
   ],
   "source": [
    "sorted_arr = countingSort(rand)\n",
    "print(\"Sorted array:\", sorted_arr)"
   ]
  },
  {
   "cell_type": "code",
   "execution_count": 5,
   "id": "4d576c55",
   "metadata": {},
   "outputs": [
    {
     "data": {
      "text/plain": [
       "array([ True,  True,  True,  True,  True,  True,  True,  True,  True,\n",
       "        True,  True,  True,  True,  True,  True,  True,  True,  True,\n",
       "        True,  True,  True,  True,  True,  True,  True,  True,  True,\n",
       "        True,  True,  True,  True,  True,  True,  True,  True,  True,\n",
       "        True,  True,  True,  True,  True,  True,  True,  True,  True,\n",
       "        True,  True,  True,  True,  True])"
      ]
     },
     "execution_count": 5,
     "metadata": {},
     "output_type": "execute_result"
    }
   ],
   "source": [
    "sorted_arr == np.sort(rand)"
   ]
  },
  {
   "cell_type": "code",
   "execution_count": null,
   "id": "25c8ab15",
   "metadata": {},
   "outputs": [],
   "source": []
  }
 ],
 "metadata": {
  "kernelspec": {
   "display_name": "Python 3 (ipykernel)",
   "language": "python",
   "name": "python3"
  },
  "language_info": {
   "codemirror_mode": {
    "name": "ipython",
    "version": 3
   },
   "file_extension": ".py",
   "mimetype": "text/x-python",
   "name": "python",
   "nbconvert_exporter": "python",
   "pygments_lexer": "ipython3",
   "version": "3.12.3"
  }
 },
 "nbformat": 4,
 "nbformat_minor": 5
}
