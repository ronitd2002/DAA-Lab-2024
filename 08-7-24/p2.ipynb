{
 "cells": [
  {
   "cell_type": "markdown",
   "id": "9db305e0-4fdf-44e1-81a3-1020c292a8b5",
   "metadata": {},
   "source": [
    "# Problem 2 - Date 7-8-2024"
   ]
  },
  {
   "cell_type": "code",
   "execution_count": 1,
   "id": "25339818-9931-4d11-bdc7-7b516442754c",
   "metadata": {},
   "outputs": [],
   "source": [
    "import numpy as np\n",
    "import matplotlib.pyplot as plt"
   ]
  },
  {
   "cell_type": "markdown",
   "id": "dd26267a-c0fa-48fd-8a47-4881473c27b4",
   "metadata": {},
   "source": [
    "**Rules** :\n",
    "* Each student gets at least one book\n",
    "* Each book should be allocated to only 1 student\n",
    "* Book allocation should be in **contiguous** manner.\n",
    "\n",
    "Hence the condition should be that `len(arr) >= m` ALWAYS."
   ]
  },
  {
   "cell_type": "code",
   "execution_count": 4,
   "id": "b79c2176-d9d4-4479-96c2-6ff93adb36bf",
   "metadata": {},
   "outputs": [
    {
     "name": "stdout",
     "output_type": "stream",
     "text": [
      "[628, 640, 895, 920, 685, 151, 793, 472, 36, 788, 538, 703, 564, 853, 190, 984, 6, 529, 683, 142, 414, 42, 748, 974, 675]\n"
     ]
    }
   ],
   "source": [
    "# input : siz -> number of books, stu -> number of students\n",
    "stu = 12 #change input\n",
    "siz = 25 #change input\n",
    "bookpages = np.random.randint(0, 1000, siz)\n",
    "print(list(bookpages))"
   ]
  },
  {
   "cell_type": "code",
   "execution_count": 5,
   "id": "04f811d1",
   "metadata": {},
   "outputs": [],
   "source": [
    "def is_valid_distribution(arr, n, m, max_pages):\n",
    "    students = 1\n",
    "    pages = 0\n",
    "    for i in range(n):\n",
    "        if arr[i] > max_pages:\n",
    "            return False\n",
    "        if pages + arr[i] > max_pages:\n",
    "            students += 1\n",
    "            pages = arr[i]\n",
    "            if students > m:\n",
    "                return False\n",
    "        else:\n",
    "            pages += arr[i]\n",
    "    return True\n",
    "\n",
    "# binary search algorithm \n",
    "def allocate_books(arr, n, m):\n",
    "    if n < m:\n",
    "        return -1  # Not enough books for all students (boundary case)\n",
    "    \n",
    "    low = max(arr)\n",
    "    high = sum(arr)\n",
    "    result = -1\n",
    "    \n",
    "    while low <= high:\n",
    "        mid = (low + high) // 2\n",
    "        if is_valid_distribution(arr, n, m, mid):\n",
    "            result = mid\n",
    "            high = mid - 1\n",
    "        else:\n",
    "            low = mid + 1\n",
    "    \n",
    "    return result"
   ]
  },
  {
   "cell_type": "code",
   "execution_count": 8,
   "id": "8328aafc",
   "metadata": {},
   "outputs": [
    {
     "name": "stdout",
     "output_type": "stream",
     "text": [
      "32\n"
     ]
    }
   ],
   "source": [
    "# Example usage given along the problem\n",
    "arr = [15, 17, 20]\n",
    "m = 2\n",
    "n = len(arr)\n",
    "print(allocate_books(arr, n, m))  # Output: 32"
   ]
  },
  {
   "cell_type": "code",
   "execution_count": 9,
   "id": "242c42b6",
   "metadata": {},
   "outputs": [
    {
     "name": "stdout",
     "output_type": "stream",
     "text": [
      "1605\n"
     ]
    }
   ],
   "source": [
    "# my own testcase\n",
    "print(allocate_books(bookpages, siz, stu))"
   ]
  }
 ],
 "metadata": {
  "kernelspec": {
   "display_name": "Python 3 (ipykernel)",
   "language": "python",
   "name": "python3"
  },
  "language_info": {
   "codemirror_mode": {
    "name": "ipython",
    "version": 3
   },
   "file_extension": ".py",
   "mimetype": "text/x-python",
   "name": "python",
   "nbconvert_exporter": "python",
   "pygments_lexer": "ipython3",
   "version": "3.11.5"
  },
  "widgets": {
   "application/vnd.jupyter.widget-state+json": {
    "state": {},
    "version_major": 2,
    "version_minor": 0
   }
  }
 },
 "nbformat": 4,
 "nbformat_minor": 5
}
