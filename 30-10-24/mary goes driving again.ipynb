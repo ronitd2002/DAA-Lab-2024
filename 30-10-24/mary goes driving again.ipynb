{
 "cells": [
  {
   "cell_type": "markdown",
   "metadata": {},
   "source": [
    "### Prim's algo to find max possible speed to not break speed limit"
   ]
  },
  {
   "cell_type": "code",
   "execution_count": 18,
   "metadata": {
    "collapsed": true
   },
   "outputs": [],
   "source": [
    "def findmax(N, edges):\n",
    "    # create adjacency matrix\n",
    "    adj = [[0]* N for _ in range(N)]\n",
    "    for u,v, weight in edges:\n",
    "        u,v = u-1,v-1\n",
    "        adj[u][v] = weight\n",
    "        adj[v][u] = weight\n",
    "        # undirected graph symmetric matrix\n",
    "        \n",
    "    # prim's algo\n",
    "    speed = [0]*N\n",
    "    speed[0] = float('inf')\n",
    "    visited = [False]*N\n",
    "    \n",
    "    # find path with maximum possible speed\n",
    "    for _ in range(N):\n",
    "        max_speed = -1\n",
    "        u = -1\n",
    "        \n",
    "        # find unvisited vertx with maximum speed\n",
    "        for i in range(N):\n",
    "            if not visited[i] and speed[i] > max_speed:\n",
    "                max_speed = speed[i]\n",
    "                u = i\n",
    "        if u == -1:\n",
    "            break\n",
    "        visited[u] == True\n",
    "        \n",
    "        # update max speeds through current vertex\n",
    "        for v in range(N):\n",
    "            if adj[u][v] > 0 and not visited[v]:\n",
    "                # maximum possible speed is minimum of current path and new road \n",
    "                # and then we are maximizing mary's speed\n",
    "                speed[v] = max(min(speed[u], adj[u][v]), speed[v])\n",
    "    \n",
    "    print(adj)\n",
    "    return speed[N-1]"
   ]
  },
  {
   "cell_type": "code",
   "execution_count": 19,
   "metadata": {},
   "outputs": [
    {
     "name": "stdout",
     "output_type": "stream",
     "text": [
      "[[0, 80, 20, 0], [80, 0, 60, 90], [20, 60, 0, 300], [0, 90, 300, 0]]\n",
      "0\n"
     ]
    }
   ],
   "source": [
    "# Test\n",
    "N= 4\n",
    "M= 5\n",
    "edges = [[1,2,80],[4,3,300],[3,1,20],[2,4,90],[2,3,60]]\n",
    "\n",
    "print(findmax(N, edges))"
   ]
  },
  {
   "cell_type": "code",
   "execution_count": null,
   "metadata": {
    "collapsed": true
   },
   "outputs": [],
   "source": []
  }
 ],
 "metadata": {
  "kernelspec": {
   "display_name": "Python 3",
   "language": "python",
   "name": "python3"
  },
  "language_info": {
   "codemirror_mode": {
    "name": "ipython",
    "version": 3
   },
   "file_extension": ".py",
   "mimetype": "text/x-python",
   "name": "python",
   "nbconvert_exporter": "python",
   "pygments_lexer": "ipython3",
   "version": "3.6.3"
  }
 },
 "nbformat": 4,
 "nbformat_minor": 2
}
