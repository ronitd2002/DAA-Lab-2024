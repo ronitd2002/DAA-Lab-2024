{
 "cells": [
  {
   "cell_type": "markdown",
   "metadata": {},
   "source": [
    "### Prim's algo to find max possible speed to not break speed limit"
   ]
  },
  {
   "cell_type": "code",
   "execution_count": 9,
   "metadata": {
    "collapsed": true
   },
   "outputs": [],
   "source": [
    "def find_max_speed(N, edges):\n",
    "    # create adjacency matrix\n",
    "    graph = [[0]*N for _ in range(N)]\n",
    "    for u,v, weight in edges:\n",
    "        u,v = u-1, v-1\n",
    "        graph[u][v] = weight\n",
    "        graph[v][u] = weight # undirected graph symmetric matrix\n",
    "        \n",
    "    # prim's algo\n",
    "    visited = [False]*N\n",
    "    # max_speeds = [float('-inf')]*N\n",
    "    max_speeds = [0]*N\n",
    "    max_speeds[0] = float('inf')\n",
    "    \n",
    "    # find path with maximum possible speed\n",
    "    for _ in range(N):\n",
    "        # find unvisited vertx with maximum speed\n",
    "        curr_vertex = -1\n",
    "        curr_max = float('inf')\n",
    "        \n",
    "        for v in range(N):\n",
    "            if not visited[v] and max_speeds[v]> curr_max:\n",
    "                curr_vertex = v\n",
    "                curr_max = max_speeds[v]\n",
    "                \n",
    "        if curr_vertex == -1:\n",
    "            break\n",
    "        \n",
    "        visited[curr_vertex] = True\n",
    "        \n",
    "        # update max speeds through current vertex\n",
    "        for next_vertex in range(N):\n",
    "            if(graph[curr_vertex][next_vertex] > 0 and not visited[next_vertex]):\n",
    "                # maximum possible speed is minimum of current path and new road\n",
    "                new_speed = min(max_speeds[curr_vertex],graph[curr_vertex][next_vertex])\n",
    "                max_speeds[next_vertex] = max(max_speeds[next_vertex], new_speed)\n",
    "                \n",
    "    return max_speeds[N-1]"
   ]
  },
  {
   "cell_type": "code",
   "execution_count": 10,
   "metadata": {},
   "outputs": [
    {
     "name": "stdout",
     "output_type": "stream",
     "text": [
      "0\n"
     ]
    }
   ],
   "source": [
    "# Test\n",
    "N= 4\n",
    "M= 5\n",
    "edges = [[1,2,80],[4,3,300],[3,1,20],[2,4,90],[2,3,60]]\n",
    "\n",
    "print(find_max_speed(N, edges))"
   ]
  },
  {
   "cell_type": "code",
   "execution_count": null,
   "metadata": {
    "collapsed": true
   },
   "outputs": [],
   "source": []
  }
 ],
 "metadata": {
  "kernelspec": {
   "display_name": "Python 3",
   "language": "python",
   "name": "python3"
  },
  "language_info": {
   "codemirror_mode": {
    "name": "ipython",
    "version": 3
   },
   "file_extension": ".py",
   "mimetype": "text/x-python",
   "name": "python",
   "nbconvert_exporter": "python",
   "pygments_lexer": "ipython3",
   "version": "3.6.3"
  }
 },
 "nbformat": 4,
 "nbformat_minor": 2
}
