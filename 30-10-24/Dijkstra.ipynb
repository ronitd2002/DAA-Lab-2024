{
 "cells": [
  {
   "cell_type": "markdown",
   "metadata": {},
   "source": [
    "# Dijkstra's algorithm"
   ]
  },
  {
   "cell_type": "code",
   "execution_count": 45,
   "metadata": {
    "collapsed": true
   },
   "outputs": [],
   "source": [
    "def create_graph(edges):\n",
    "    graph = {}\n",
    "    for src, dst, wt in edges:\n",
    "        if src not in graph:\n",
    "            graph[src] = []\n",
    "        graph[src].append((dst,wt))\n",
    "    return graph"
   ]
  },
  {
   "cell_type": "code",
   "execution_count": 50,
   "metadata": {
    "collapsed": true
   },
   "outputs": [],
   "source": [
    "def dijkstra(graph, start):\n",
    "    distances = {vertex: float('inf') for vertex in range(max(graph.keys())+1)}\n",
    "    distances[start] = 0\n",
    "    visited = set()\n",
    "    path = {vertex: [] for vertex in range(max(graph.keys())+1)}\n",
    "    path[start] = [start]\n",
    "    \n",
    "    while len(visited) < len(distances):\n",
    "        min_dist = float('inf')\n",
    "        min_vertex = None\n",
    "        # find edge with minimum distance\n",
    "        for vertex in range(len(distances)):\n",
    "            if vertex not in visited and distances[vertex] < min_dist:\n",
    "                min_dist = distances[vertex]\n",
    "                min_vertex = vertex\n",
    "        \n",
    "        if min_vertex is None:\n",
    "            break\n",
    "            \n",
    "        visited.add(min_vertex)\n",
    "        \n",
    "        if min_vertex in graph:\n",
    "            for neighbour, weight in graph[min_vertex]:\n",
    "                distance = distances[min_vertex] + weight\n",
    "                if distance < distances[neighbour]:\n",
    "                    distances[neighbour] = distance\n",
    "                    path[neighbour] = path[min_vertex] + [neighbour]\n",
    "                \n",
    "    return distances, path"
   ]
  },
  {
   "cell_type": "markdown",
   "metadata": {},
   "source": [
    "The edge matrix scheme here is for a given graph represented by \n",
    "```python\n",
    "[u, v, edge_weight(u,v)]\n",
    "```"
   ]
  },
  {
   "cell_type": "code",
   "execution_count": 51,
   "metadata": {
    "collapsed": true
   },
   "outputs": [],
   "source": [
    "edges = [[0,1,10],[0,2,3],[1,2,1],[2,1,4],[1,3,2],[2,3,8],[2,4,2],[3,4,7],[4,3,9]]\n",
    "graph1 = create_graph(edges)"
   ]
  },
  {
   "cell_type": "code",
   "execution_count": 52,
   "metadata": {},
   "outputs": [
    {
     "data": {
      "text/plain": [
       "{0: [(1, 10), (2, 3)],\n",
       " 1: [(2, 1), (3, 2)],\n",
       " 2: [(1, 4), (3, 8), (4, 2)],\n",
       " 3: [(4, 7)],\n",
       " 4: [(3, 9)]}"
      ]
     },
     "execution_count": 52,
     "metadata": {},
     "output_type": "execute_result"
    }
   ],
   "source": [
    "graph1"
   ]
  },
  {
   "cell_type": "code",
   "execution_count": 53,
   "metadata": {},
   "outputs": [
    {
     "name": "stdout",
     "output_type": "stream",
     "text": [
      "\n",
      "Dijkstra Results:\n",
      "Distances: {0: 0, 1: 7, 2: 3, 3: 9, 4: 5} \n",
      "Shortest Path: {0: [0], 1: [0, 2, 1], 2: [0, 2], 3: [0, 2, 1, 3], 4: [0, 2, 4]}\n"
     ]
    }
   ],
   "source": [
    "g1_dist, g1_path = dijkstra(graph1,0)\n",
    "print(f\"\\nDijkstra Results:\\nDistances: {g1_dist} \\nShortest Path: {g1_path}\")"
   ]
  },
  {
   "cell_type": "code",
   "execution_count": null,
   "metadata": {
    "collapsed": true
   },
   "outputs": [],
   "source": []
  }
 ],
 "metadata": {
  "kernelspec": {
   "display_name": "Python 3",
   "language": "python",
   "name": "python3"
  },
  "language_info": {
   "codemirror_mode": {
    "name": "ipython",
    "version": 3
   },
   "file_extension": ".py",
   "mimetype": "text/x-python",
   "name": "python",
   "nbconvert_exporter": "python",
   "pygments_lexer": "ipython3",
   "version": "3.6.3"
  }
 },
 "nbformat": 4,
 "nbformat_minor": 5
}
