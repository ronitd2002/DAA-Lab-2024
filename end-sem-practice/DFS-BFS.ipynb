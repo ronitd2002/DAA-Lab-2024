{
 "cells": [
  {
   "cell_type": "code",
   "execution_count": 32,
   "id": "92f0c30c",
   "metadata": {},
   "outputs": [],
   "source": [
    "from collections import deque"
   ]
  },
  {
   "cell_type": "code",
   "execution_count": 33,
   "id": "58500924",
   "metadata": {},
   "outputs": [
    {
     "data": {
      "text/plain": [
       "{0: [1, 2], 1: [2, 3], 2: [1, 3, 4], 3: [4], 4: [3]}"
      ]
     },
     "execution_count": 33,
     "metadata": {},
     "output_type": "execute_result"
    }
   ],
   "source": [
    "graph = {\n",
    "    0: [1, 2],\n",
    "    1: [2, 3],\n",
    "    2: [1, 3, 4],\n",
    "    3: [4],\n",
    "    4: [3]\n",
    "}\n",
    "graph"
   ]
  },
  {
   "cell_type": "code",
   "execution_count": 34,
   "id": "6817e1eb",
   "metadata": {},
   "outputs": [],
   "source": [
    "def bfs(start):\n",
    "    visited = set()\n",
    "    queue = deque([start])\n",
    "    result = []\n",
    "    \n",
    "    while queue:\n",
    "        node = queue.popleft()\n",
    "        if node not in visited:\n",
    "            visited.add(node)\n",
    "            result.append(node)\n",
    "            for neighbor in graph.get(node, []):\n",
    "                if neighbor not in visited:\n",
    "                    queue.append(neighbor)\n",
    "    return result"
   ]
  },
  {
   "cell_type": "code",
   "execution_count": 35,
   "id": "78c1d58e",
   "metadata": {},
   "outputs": [],
   "source": [
    "def dfs(start):\n",
    "    visited = set()\n",
    "    stack = [start]\n",
    "    result = []\n",
    "    \n",
    "    while stack:\n",
    "        node = stack.pop()\n",
    "        if node not in visited:\n",
    "            visited.add(node)\n",
    "            result.append(node)\n",
    "            for neighbor in reversed(graph.get(node, [])):\n",
    "                if neighbor not in visited:\n",
    "                    stack.append(neighbor)\n",
    "    return result"
   ]
  },
  {
   "cell_type": "code",
   "execution_count": 36,
   "id": "e1fcf089",
   "metadata": {},
   "outputs": [
    {
     "name": "stdout",
     "output_type": "stream",
     "text": [
      "BFS starting from node 0: [0, 1, 2, 3, 4]\n"
     ]
    }
   ],
   "source": [
    "print(\"BFS starting from node 0:\", bfs(0))"
   ]
  },
  {
   "cell_type": "code",
   "execution_count": 38,
   "id": "b20fde69",
   "metadata": {},
   "outputs": [
    {
     "name": "stdout",
     "output_type": "stream",
     "text": [
      "DFS starting from node 0: [0, 1, 2, 3, 4]\n"
     ]
    }
   ],
   "source": [
    "print(\"DFS starting from node 0:\", dfs(0))"
   ]
  },
  {
   "cell_type": "code",
   "execution_count": null,
   "id": "104e8127",
   "metadata": {},
   "outputs": [],
   "source": []
  }
 ],
 "metadata": {
  "kernelspec": {
   "display_name": "Python 3 (ipykernel)",
   "language": "python",
   "name": "python3"
  },
  "language_info": {
   "codemirror_mode": {
    "name": "ipython",
    "version": 3
   },
   "file_extension": ".py",
   "mimetype": "text/x-python",
   "name": "python",
   "nbconvert_exporter": "python",
   "pygments_lexer": "ipython3",
   "version": "3.12.3"
  }
 },
 "nbformat": 4,
 "nbformat_minor": 5
}
