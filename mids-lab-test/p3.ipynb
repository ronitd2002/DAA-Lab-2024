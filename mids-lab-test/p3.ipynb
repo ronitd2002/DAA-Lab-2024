{
 "cells": [
  {
   "cell_type": "markdown",
   "id": "e0ffbd50-3219-441c-9f23-d8786c57962d",
   "metadata": {},
   "source": [
    "# problem 3"
   ]
  },
  {
   "cell_type": "markdown",
   "id": "413fd9a4-1bde-4ea8-8a00-e1c2ad5acdcc",
   "metadata": {},
   "source": [
    "You are given a 0-indexed integer array `nums` and an integer `p`. Your task is to find `p` pairs of indices from `nums` such that the maximum difference among all the pairs is minimized. **Additionally, ensure that no index is used more than once in the p pairs**\n",
    "\n",
    "For a pair of elements at indices i and j, the difference is defined as $|nums[i] - nums[j]|$, where $|x|$ represents the absolute value of x.\n",
    "\n",
    "Return the  minimum possible value of the maximum difference among all `p` pairs. Note that the maximum of an empty set is considered to be zero. \n",
    "\n",
    "* 0 <= p <= (nums.length)/2"
   ]
  },
  {
   "cell_type": "code",
   "execution_count": 10,
   "id": "d14177a8-badf-473b-bb6d-7e52d6dc4867",
   "metadata": {},
   "outputs": [],
   "source": [
    "import numpy as np"
   ]
  },
  {
   "cell_type": "code",
   "execution_count": 29,
   "id": "97b2c3ca-9746-4c8c-998e-849b57d2348f",
   "metadata": {},
   "outputs": [
    {
     "name": "stdout",
     "output_type": "stream",
     "text": [
      "nums = [53 60 74 14 53 23 26 12  1 34 57 25 43 45 10 79 23 39 18  2 83 40 26  2\n",
      " 31] \n",
      "p = 6\n"
     ]
    }
   ],
   "source": [
    "nums = np.random.randint(1,100,25)\n",
    "p= np.random.randint(10)\n",
    "\n",
    "print(f\"nums = {nums} \\np = {p}\")"
   ]
  },
  {
   "cell_type": "code",
   "execution_count": 38,
   "id": "b18ae0ee-3673-4492-9829-8e5f7bc42ac7",
   "metadata": {},
   "outputs": [],
   "source": [
    "def minf(arr,pair):\n",
    "    arr = np.sort(arr)\n",
    "    diff = []\n",
    "    for i in range(len(arr)-1):\n",
    "        if pair>0:\n",
    "            diff.append(arr[i]-arr[i+1])\n",
    "            pair = pair - 1\n",
    "            i = i + 1\n",
    "    diff = np.array(diff)\n",
    "    return np.max(diff)"
   ]
  },
  {
   "cell_type": "code",
   "execution_count": 39,
   "id": "cc812fbe-4623-410e-9685-da323ed7007a",
   "metadata": {},
   "outputs": [
    {
     "ename": "ValueError",
     "evalue": "zero-size array to reduction operation maximum which has no identity",
     "output_type": "error",
     "traceback": [
      "\u001b[0;31m---------------------------------------------------------------------------\u001b[0m",
      "\u001b[0;31mValueError\u001b[0m                                Traceback (most recent call last)",
      "Cell \u001b[0;32mIn[39], line 1\u001b[0m\n\u001b[0;32m----> 1\u001b[0m \u001b[38;5;28mprint\u001b[39m(minf(nums,p))\n",
      "Cell \u001b[0;32mIn[38], line 10\u001b[0m, in \u001b[0;36mminf\u001b[0;34m(arr, pair)\u001b[0m\n\u001b[1;32m      8\u001b[0m         i \u001b[38;5;241m=\u001b[39m i \u001b[38;5;241m+\u001b[39m \u001b[38;5;241m1\u001b[39m\n\u001b[1;32m      9\u001b[0m diff \u001b[38;5;241m=\u001b[39m np\u001b[38;5;241m.\u001b[39marray(diff)\n\u001b[0;32m---> 10\u001b[0m \u001b[38;5;28;01mreturn\u001b[39;00m np\u001b[38;5;241m.\u001b[39mmax(diff)\n",
      "File \u001b[0;32m<__array_function__ internals>:200\u001b[0m, in \u001b[0;36mamax\u001b[0;34m(*args, **kwargs)\u001b[0m\n",
      "File \u001b[0;32m/home/anaconda3/lib/python3.11/site-packages/numpy/core/fromnumeric.py:2820\u001b[0m, in \u001b[0;36mamax\u001b[0;34m(a, axis, out, keepdims, initial, where)\u001b[0m\n\u001b[1;32m   2703\u001b[0m \u001b[38;5;129m@array_function_dispatch\u001b[39m(_amax_dispatcher)\n\u001b[1;32m   2704\u001b[0m \u001b[38;5;28;01mdef\u001b[39;00m \u001b[38;5;21mamax\u001b[39m(a, axis\u001b[38;5;241m=\u001b[39m\u001b[38;5;28;01mNone\u001b[39;00m, out\u001b[38;5;241m=\u001b[39m\u001b[38;5;28;01mNone\u001b[39;00m, keepdims\u001b[38;5;241m=\u001b[39mnp\u001b[38;5;241m.\u001b[39m_NoValue, initial\u001b[38;5;241m=\u001b[39mnp\u001b[38;5;241m.\u001b[39m_NoValue,\n\u001b[1;32m   2705\u001b[0m          where\u001b[38;5;241m=\u001b[39mnp\u001b[38;5;241m.\u001b[39m_NoValue):\n\u001b[1;32m   2706\u001b[0m \u001b[38;5;250m    \u001b[39m\u001b[38;5;124;03m\"\"\"\u001b[39;00m\n\u001b[1;32m   2707\u001b[0m \u001b[38;5;124;03m    Return the maximum of an array or maximum along an axis.\u001b[39;00m\n\u001b[1;32m   2708\u001b[0m \n\u001b[0;32m   (...)\u001b[0m\n\u001b[1;32m   2818\u001b[0m \u001b[38;5;124;03m    5\u001b[39;00m\n\u001b[1;32m   2819\u001b[0m \u001b[38;5;124;03m    \"\"\"\u001b[39;00m\n\u001b[0;32m-> 2820\u001b[0m     \u001b[38;5;28;01mreturn\u001b[39;00m _wrapreduction(a, np\u001b[38;5;241m.\u001b[39mmaximum, \u001b[38;5;124m'\u001b[39m\u001b[38;5;124mmax\u001b[39m\u001b[38;5;124m'\u001b[39m, axis, \u001b[38;5;28;01mNone\u001b[39;00m, out,\n\u001b[1;32m   2821\u001b[0m                           keepdims\u001b[38;5;241m=\u001b[39mkeepdims, initial\u001b[38;5;241m=\u001b[39minitial, where\u001b[38;5;241m=\u001b[39mwhere)\n",
      "File \u001b[0;32m/home/anaconda3/lib/python3.11/site-packages/numpy/core/fromnumeric.py:86\u001b[0m, in \u001b[0;36m_wrapreduction\u001b[0;34m(obj, ufunc, method, axis, dtype, out, **kwargs)\u001b[0m\n\u001b[1;32m     83\u001b[0m         \u001b[38;5;28;01melse\u001b[39;00m:\n\u001b[1;32m     84\u001b[0m             \u001b[38;5;28;01mreturn\u001b[39;00m reduction(axis\u001b[38;5;241m=\u001b[39maxis, out\u001b[38;5;241m=\u001b[39mout, \u001b[38;5;241m*\u001b[39m\u001b[38;5;241m*\u001b[39mpasskwargs)\n\u001b[0;32m---> 86\u001b[0m \u001b[38;5;28;01mreturn\u001b[39;00m ufunc\u001b[38;5;241m.\u001b[39mreduce(obj, axis, dtype, out, \u001b[38;5;241m*\u001b[39m\u001b[38;5;241m*\u001b[39mpasskwargs)\n",
      "\u001b[0;31mValueError\u001b[0m: zero-size array to reduction operation maximum which has no identity"
     ]
    }
   ],
   "source": [
    "print(minf(nums,p))"
   ]
  },
  {
   "cell_type": "code",
   "execution_count": null,
   "id": "64d6594c-c027-4863-ba47-9c80df9ecbe5",
   "metadata": {},
   "outputs": [],
   "source": [
    "nums = [10,1,2,7,1,3]\n",
    "p=2"
   ]
  }
 ],
 "metadata": {
  "kernelspec": {
   "display_name": "Python 3 (ipykernel)",
   "language": "python",
   "name": "python3"
  },
  "language_info": {
   "codemirror_mode": {
    "name": "ipython",
    "version": 3
   },
   "file_extension": ".py",
   "mimetype": "text/x-python",
   "name": "python",
   "nbconvert_exporter": "python",
   "pygments_lexer": "ipython3",
   "version": "3.11.5"
  }
 },
 "nbformat": 4,
 "nbformat_minor": 5
}
