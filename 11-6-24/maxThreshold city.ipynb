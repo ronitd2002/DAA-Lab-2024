{
 "cells": [
  {
   "cell_type": "code",
   "execution_count": 14,
   "metadata": {
    "collapsed": true
   },
   "outputs": [],
   "source": [
    "def dijkstra(n, edges, start, distanceThreshold):\n",
    "    dist = [float('inf')] * n\n",
    "    dist[start] = 0\n",
    "    visited = [False] * n # init\n",
    "    \n",
    "    for _ in range(n):\n",
    "        # Find unvisited city with the smallest distance\n",
    "        u = -1\n",
    "        for i in range(n):\n",
    "            if not visited[i] and (u == -1 or dist[i] < dist[u]): # find min dist\n",
    "                u = i\n",
    "        if dist[u] == float('inf'):\n",
    "            break\n",
    "        \n",
    "        visited[u] = True # u is index with smallest distance\n",
    "        \n",
    "        for edge in edges:\n",
    "            if edge[0] == u or edge[1] == u:\n",
    "                v = edge[1] if edge[0] == u else edge[0]\n",
    "                weight = edge[2]\n",
    "                if dist[u] + weight < dist[v]:\n",
    "                    dist[v] = dist[u] + weight\n",
    "    \n",
    "    # Counting the cities within the distance threshold\n",
    "    reachable_cities = sum(1 for d in dist if d <= distanceThreshold and d != float('inf'))\n",
    "    return reachable_cities"
   ]
  },
  {
   "cell_type": "code",
   "execution_count": 15,
   "metadata": {
    "collapsed": true
   },
   "outputs": [],
   "source": [
    "def findTheCity(n, edges, distanceThreshold):\n",
    "    min_reachable = float('inf')\n",
    "    result_city = -1\n",
    "\n",
    "    for city in range(n):\n",
    "        reachable = dijkstra(n, edges, city, distanceThreshold)\n",
    "        if reachable < min_reachable or (reachable == min_reachable and city > result_city):\n",
    "            min_reachable = reachable\n",
    "            result_city = city\n",
    "\n",
    "    return result_city"
   ]
  },
  {
   "cell_type": "code",
   "execution_count": 16,
   "metadata": {
    "collapsed": true
   },
   "outputs": [],
   "source": [
    "n = 4\n",
    "edges = [[0, 1, 3], [1, 2, 1], [1, 3, 4], [2, 3, 1]]\n",
    "distanceThreshold = 4"
   ]
  },
  {
   "cell_type": "code",
   "execution_count": 17,
   "metadata": {},
   "outputs": [
    {
     "name": "stdout",
     "output_type": "stream",
     "text": [
      "Output: 3\n"
     ]
    }
   ],
   "source": [
    "output = findTheCity(n, edges, distanceThreshold)\n",
    "print(\"Output:\", output)"
   ]
  },
  {
   "cell_type": "code",
   "execution_count": null,
   "metadata": {
    "collapsed": true
   },
   "outputs": [],
   "source": []
  }
 ],
 "metadata": {
  "kernelspec": {
   "display_name": "Python 3 (ipykernel)",
   "language": "python",
   "name": "python3"
  },
  "language_info": {
   "codemirror_mode": {
    "name": "ipython",
    "version": 3
   },
   "file_extension": ".py",
   "mimetype": "text/x-python",
   "name": "python",
   "nbconvert_exporter": "python",
   "pygments_lexer": "ipython3",
   "version": "3.6.3"
  }
 },
 "nbformat": 4,
 "nbformat_minor": 2
}
