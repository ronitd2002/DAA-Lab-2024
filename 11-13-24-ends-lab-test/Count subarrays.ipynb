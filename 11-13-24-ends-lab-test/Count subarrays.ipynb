{
 "cells": [
  {
   "cell_type": "code",
   "execution_count": 4,
   "id": "1e99cc0f",
   "metadata": {},
   "outputs": [],
   "source": [
    "def count(A, max_val, min_val):\n",
    "    n = len(A)\n",
    "    count = 0\n",
    "    start = 0\n",
    "    last_max = last_min = -1\n",
    "\n",
    "    for end in range(n):\n",
    "        if A[end] == max_val:\n",
    "            last_max = end\n",
    "        elif A[end] == min_val:\n",
    "            last_min = end\n",
    "\n",
    "        elif last_max != -1 and last_min != -1:\n",
    "            count += max(0, min(last_max, last_min) + 1)\n",
    "\n",
    "    return count"
   ]
  },
  {
   "cell_type": "code",
   "execution_count": 5,
   "id": "485b0a39",
   "metadata": {},
   "outputs": [],
   "source": [
    "A = [1, 3, 4, 6, 5]\n",
    "max_val = 6\n",
    "min_val = 3"
   ]
  },
  {
   "cell_type": "code",
   "execution_count": 6,
   "id": "ed6d9275",
   "metadata": {},
   "outputs": [
    {
     "name": "stdout",
     "output_type": "stream",
     "text": [
      "Number of subarrays with given max and min: 2\n"
     ]
    }
   ],
   "source": [
    "print(\"Number of subarrays with given max and min:\", count(A, max_val, min_val))"
   ]
  },
  {
   "cell_type": "code",
   "execution_count": null,
   "id": "bf72c8a7",
   "metadata": {},
   "outputs": [],
   "source": []
  }
 ],
 "metadata": {
  "kernelspec": {
   "display_name": "Python 3 (ipykernel)",
   "language": "python",
   "name": "python3"
  },
  "language_info": {
   "codemirror_mode": {
    "name": "ipython",
    "version": 3
   },
   "file_extension": ".py",
   "mimetype": "text/x-python",
   "name": "python",
   "nbconvert_exporter": "python",
   "pygments_lexer": "ipython3",
   "version": "3.12.3"
  }
 },
 "nbformat": 4,
 "nbformat_minor": 5
}
