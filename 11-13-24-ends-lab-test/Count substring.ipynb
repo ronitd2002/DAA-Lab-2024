{
 "cells": [
  {
   "cell_type": "code",
   "execution_count": 39,
   "id": "4b672cea",
   "metadata": {},
   "outputs": [],
   "source": [
    "def count(S):\n",
    "    c0 = c1 = c2 = 0\n",
    "    count_map = {(0, 0, 0): 1}\n",
    "    total = 0\n",
    "\n",
    "    for ch in S:\n",
    "        if ch == '0':\n",
    "            c0 += 1\n",
    "        elif ch == '1':\n",
    "            c1 += 1\n",
    "        elif ch == '2':\n",
    "            c2 += 1\n",
    "\n",
    "        diff_01 = c0 - c1\n",
    "        diff_02 = c0 - c2\n",
    "        diff_12 = c1 - c2\n",
    "\n",
    "        if (diff_01, diff_02, diff_12) in count_map:\n",
    "            total += count_map[(diff_01, diff_02, diff_12)]\n",
    "            count_map[(diff_01, diff_02, diff_12)] += 1\n",
    "        else:\n",
    "            count_map[(diff_01, diff_02, diff_12)] = 1\n",
    "\n",
    "    return total"
   ]
  },
  {
   "cell_type": "code",
   "execution_count": 40,
   "id": "614f4f9a",
   "metadata": {},
   "outputs": [
    {
     "name": "stdout",
     "output_type": "stream",
     "text": [
      "Number of substrings with equal 0s, 1s, and 2s: 7\n"
     ]
    }
   ],
   "source": [
    "S = \"0120120\"\n",
    "print(\"Number of substrings with equal 0s, 1s, and 2s:\", count1(S))"
   ]
  },
  {
   "cell_type": "code",
   "execution_count": 41,
   "id": "e42c0c64",
   "metadata": {},
   "outputs": [
    {
     "name": "stdout",
     "output_type": "stream",
     "text": [
      "Number of substrings with equal 0s, 1s, and 2s: 0\n"
     ]
    }
   ],
   "source": [
    "S= \"00011112222\"\n",
    "print(\"Number of substrings with equal 0s, 1s, and 2s:\", count(S))"
   ]
  },
  {
   "cell_type": "code",
   "execution_count": 42,
   "id": "10c0e843",
   "metadata": {},
   "outputs": [
    {
     "name": "stdout",
     "output_type": "stream",
     "text": [
      "Number of substrings with equal 0s, 1s, and 2s: 5\n"
     ]
    }
   ],
   "source": [
    "S= \"12012120221\"\n",
    "print(\"Number of substrings with equal 0s, 1s, and 2s:\", count1(S))"
   ]
  },
  {
   "cell_type": "code",
   "execution_count": null,
   "id": "da331a72",
   "metadata": {},
   "outputs": [],
   "source": []
  }
 ],
 "metadata": {
  "kernelspec": {
   "display_name": "Python 3 (ipykernel)",
   "language": "python",
   "name": "python3"
  },
  "language_info": {
   "codemirror_mode": {
    "name": "ipython",
    "version": 3
   },
   "file_extension": ".py",
   "mimetype": "text/x-python",
   "name": "python",
   "nbconvert_exporter": "python",
   "pygments_lexer": "ipython3",
   "version": "3.12.3"
  }
 },
 "nbformat": 4,
 "nbformat_minor": 5
}
