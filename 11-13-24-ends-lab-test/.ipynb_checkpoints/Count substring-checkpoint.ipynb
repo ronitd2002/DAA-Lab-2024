{
 "cells": [
  {
   "cell_type": "code",
   "execution_count": 1,
   "id": "835124eb",
   "metadata": {},
   "outputs": [],
   "source": [
    "def count(S):\n",
    "    count_0 = count_1 = count_2 = 0\n",
    "    count_map = {(0, 0): 1}\n",
    "    total_substrings = 0\n",
    "\n",
    "    for ch in S:\n",
    "        if ch == '0':\n",
    "            count_0 += 1\n",
    "        elif ch == '1':\n",
    "            count_1 += 1\n",
    "        elif ch == '2':\n",
    "            count_2 += 1\n",
    "\n",
    "        diff_01 = count_0 - count_1\n",
    "        diff_02 = count_0 - count_2\n",
    "\n",
    "        if (diff_01, diff_02) in count_map:\n",
    "            total_substrings += count_map[(diff_01, diff_02)]\n",
    "            count_map[(diff_01, diff_02)] += 1\n",
    "        else:\n",
    "            count_map[(diff_01, diff_02)] = 1\n",
    "\n",
    "    return total_substrings"
   ]
  },
  {
   "cell_type": "code",
   "execution_count": 3,
   "id": "2bdb344f",
   "metadata": {},
   "outputs": [
    {
     "name": "stdout",
     "output_type": "stream",
     "text": [
      "Number of substrings with equal 0s, 1s, and 2s: 7\n"
     ]
    }
   ],
   "source": [
    "S = \"0120120\"\n",
    "print(\"Number of substrings with equal 0s, 1s, and 2s:\", count(S))"
   ]
  },
  {
   "cell_type": "code",
   "execution_count": 4,
   "id": "db30f3ed",
   "metadata": {},
   "outputs": [
    {
     "name": "stdout",
     "output_type": "stream",
     "text": [
      "Number of substrings with equal 0s, 1s, and 2s: 0\n"
     ]
    }
   ],
   "source": [
    "S= \"00011112222\"\n",
    "print(\"Number of substrings with equal 0s, 1s, and 2s:\", count(S))"
   ]
  },
  {
   "cell_type": "code",
   "execution_count": 5,
   "id": "91eca18d",
   "metadata": {},
   "outputs": [
    {
     "name": "stdout",
     "output_type": "stream",
     "text": [
      "Number of substrings with equal 0s, 1s, and 2s: 5\n"
     ]
    }
   ],
   "source": [
    "S= \"12012120221\"\n",
    "print(\"Number of substrings with equal 0s, 1s, and 2s:\", count(S))"
   ]
  },
  {
   "cell_type": "code",
   "execution_count": null,
   "id": "4b672cea",
   "metadata": {},
   "outputs": [],
   "source": []
  }
 ],
 "metadata": {
  "kernelspec": {
   "display_name": "Python 3 (ipykernel)",
   "language": "python",
   "name": "python3"
  },
  "language_info": {
   "codemirror_mode": {
    "name": "ipython",
    "version": 3
   },
   "file_extension": ".py",
   "mimetype": "text/x-python",
   "name": "python",
   "nbconvert_exporter": "python",
   "pygments_lexer": "ipython3",
   "version": "3.12.3"
  }
 },
 "nbformat": 4,
 "nbformat_minor": 5
}
