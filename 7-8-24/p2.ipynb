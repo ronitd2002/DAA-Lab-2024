{
 "cells": [
  {
   "cell_type": "markdown",
   "id": "9db305e0-4fdf-44e1-81a3-1020c292a8b5",
   "metadata": {},
   "source": [
    "# Problem 2 - Date 7-8-2024"
   ]
  },
  {
   "cell_type": "code",
   "execution_count": 71,
   "id": "25339818-9931-4d11-bdc7-7b516442754c",
   "metadata": {},
   "outputs": [],
   "source": [
    "import numpy as np\n",
    "import matplotlib.pyplot as plt"
   ]
  },
  {
   "cell_type": "markdown",
   "id": "dd26267a-c0fa-48fd-8a47-4881473c27b4",
   "metadata": {},
   "source": [
    "**Rules** :\n",
    "* Each student gets at least one book\n",
    "* Each book should be allocated to only 1 student\n",
    "* Book allocation should be in **contiguous** manner.\n",
    "\n",
    "Hence the condition should be that `len(arr) >= m` ALWAYS."
   ]
  },
  {
   "cell_type": "code",
   "execution_count": 72,
   "id": "b79c2176-d9d4-4479-96c2-6ff93adb36bf",
   "metadata": {},
   "outputs": [
    {
     "name": "stdout",
     "output_type": "stream",
     "text": [
      "[414, 595, 300, 114, 494, 536, 83, 633, 3, 349, 34, 750, 116, 566, 116, 942, 817, 590, 662, 189, 932, 976, 5, 532, 344]\n"
     ]
    }
   ],
   "source": [
    "# input : siz -> number of books, stu -> number of students\n",
    "stu = 12 #change input\n",
    "siz = 25 #change input\n",
    "bookpages = np.random.randint(0, 1000, siz)\n",
    "print(list(bookpages))"
   ]
  },
  {
   "cell_type": "markdown",
   "id": "37e5ee54-6a05-484c-a705-13ad50c5a5c1",
   "metadata": {},
   "source": [
    "### sort"
   ]
  },
  {
   "cell_type": "code",
   "execution_count": 73,
   "id": "542c9460-8c67-436b-811e-01abe98a340f",
   "metadata": {},
   "outputs": [],
   "source": [
    "# %load p3.py\n",
    "#!/usr/bin/env python\n",
    "\n",
    "# # Problem 3 - Date 7-8-2024\n",
    "\n",
    "# In[1]:\n",
    "\n",
    "\"\"\"\n",
    "import numpy as np\n",
    "import matplotlib.pyplot as plt\n",
    "\n",
    "\n",
    "# In[24]:\n",
    "\n",
    "\n",
    "n = 50\n",
    "workarr = np.random.randint(0,1000,n)\n",
    "print(len(workarr))\n",
    "workarr\n",
    "\"\"\"\n",
    "\n",
    "# In[21]:\n",
    "\n",
    "\n",
    "# Function to partition the array as per normal quicksort scheme\n",
    "def partition_left(arr, low, high):\n",
    "    pivot = arr[high]\n",
    "    i = low\n",
    "    for j in range(low, high):\n",
    "        if arr[j] <= pivot:\n",
    "            arr[i], arr[j] = arr[j], arr[i]\n",
    "            i += 1\n",
    "    arr[i], arr[high] = arr[high], arr[i]\n",
    "    return i\n",
    "\n",
    "# Function to perform random partition for randomized pivot selection\n",
    "def partition_right(arr, low, high):\n",
    "    r = np.random.randint(low, high) # random pivot not necessarily the last element of the array\n",
    "    arr[r], arr[high] = arr[high], arr[r]\n",
    "    return partition_left(arr, low, high)\n",
    "\n",
    "\n",
    "# In[22]:\n",
    "\n",
    "\n",
    "# Recursive function for quicksort that partitions the array after the pivot is set in the correct position\n",
    "def quicksort(arr, low, high):\n",
    "    if low < high:\n",
    "        p = partition_right(arr, low, high)\n",
    "        quicksort(arr, low, p - 1)\n",
    "        quicksort(arr, p + 1, high)"
   ]
  },
  {
   "cell_type": "code",
   "execution_count": 74,
   "id": "e7f35e88-7797-4bf5-9136-46ec02318708",
   "metadata": {},
   "outputs": [
    {
     "name": "stdout",
     "output_type": "stream",
     "text": [
      "Sorted array:\n"
     ]
    },
    {
     "data": {
      "text/plain": [
       "array([  3,   5,  34,  83, 114, 116, 116, 189, 300, 344, 349, 414, 494,\n",
       "       532, 536, 566, 590, 595, 633, 662, 750, 817, 932, 942, 976])"
      ]
     },
     "execution_count": 74,
     "metadata": {},
     "output_type": "execute_result"
    }
   ],
   "source": [
    "quicksort(bookpages, 0, siz - 1)\n",
    "print(\"Sorted array:\")\n",
    "bookpages"
   ]
  },
  {
   "cell_type": "code",
   "execution_count": 75,
   "id": "38d4cff8-f6c2-4720-b72a-341ec5caec56",
   "metadata": {},
   "outputs": [
    {
     "data": {
      "text/plain": [
       "array([  3,   5,  34,  83, 114, 116, 116, 189, 300, 344, 349, 414])"
      ]
     },
     "execution_count": 75,
     "metadata": {},
     "output_type": "execute_result"
    }
   ],
   "source": [
    "first= bookpages[:stu]\n",
    "first"
   ]
  },
  {
   "cell_type": "markdown",
   "id": "780cac47-d861-4297-91f2-514815ec6201",
   "metadata": {},
   "source": [
    "The above list gives the first allocation"
   ]
  },
  {
   "cell_type": "code",
   "execution_count": 76,
   "id": "6cf1fe6d-a913-4c31-b34b-967dd51fe9e1",
   "metadata": {},
   "outputs": [
    {
     "data": {
      "text/plain": [
       "array([494, 532, 536, 566, 590, 595, 633, 662, 750, 817, 932, 942, 976])"
      ]
     },
     "execution_count": 76,
     "metadata": {},
     "output_type": "execute_result"
    }
   ],
   "source": [
    "remain1 = bookpages[stu:]\n",
    "remain1"
   ]
  },
  {
   "cell_type": "code",
   "execution_count": 77,
   "id": "f231b78c-bea3-4f8d-a9e3-645671011dd6",
   "metadata": {},
   "outputs": [],
   "source": [
    "def min_allot(arr,remain,stu):\n",
    "    stud = remain[:stu]\n",
    "    sum_mat = sum(arr,stud)\n",
    "    rem = arr[stu:]\n",
    "    if len(arr) < 1:\n",
    "        return sum_mat\n",
    "    else:\n",
    "        return min_allot(stud,rem,stu)"
   ]
  },
  {
   "cell_type": "code",
   "execution_count": 82,
   "id": "d859a800-3eea-41cb-b0de-ba2e2dd05d5f",
   "metadata": {},
   "outputs": [
    {
     "data": {
      "text/plain": [
       "36854"
      ]
     },
     "execution_count": 82,
     "metadata": {},
     "output_type": "execute_result"
    }
   ],
   "source": [
    "sum_mat = min(sum(sum1,remain2))\n",
    "sum_mat"
   ]
  }
 ],
 "metadata": {
  "kernelspec": {
   "display_name": "Python 3 (ipykernel)",
   "language": "python",
   "name": "python3"
  },
  "language_info": {
   "codemirror_mode": {
    "name": "ipython",
    "version": 3
   },
   "file_extension": ".py",
   "mimetype": "text/x-python",
   "name": "python",
   "nbconvert_exporter": "python",
   "pygments_lexer": "ipython3",
   "version": "3.11.5"
  }
 },
 "nbformat": 4,
 "nbformat_minor": 5
}
