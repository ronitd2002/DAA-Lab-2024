{
 "cells": [
  {
   "cell_type": "code",
   "execution_count": 24,
   "id": "ea1a34a9-38b7-41cb-861d-b8500d162d96",
   "metadata": {},
   "outputs": [],
   "source": [
    "import numpy as np"
   ]
  },
  {
   "cell_type": "code",
   "execution_count": 25,
   "id": "fa47ef4a-2d7f-41e5-9163-d4a9f35c0848",
   "metadata": {},
   "outputs": [
    {
     "data": {
      "text/plain": [
       "array([10, 93, 59, 64, 83, 71, 83, 30, 56, 72, 87,  2, 60, 73, 50,  3, 28,\n",
       "       75,  4, 72, 77, 80, 27, 87, 35, 10, 56, 46, 51, 90, 86,  5, 48, 21,\n",
       "       82, 56, 60, 97, 15, 99, 65, 36, 21, 46, 25, 83, 53, 24, 46, 30])"
      ]
     },
     "execution_count": 25,
     "metadata": {},
     "output_type": "execute_result"
    }
   ],
   "source": [
    "arr = np.random.randint(1,100,50)\n",
    "arr"
   ]
  },
  {
   "cell_type": "code",
   "execution_count": 28,
   "id": "09635f12-c52f-4841-a51d-60d6aab35276",
   "metadata": {},
   "outputs": [],
   "source": [
    "def mergeSort(arr):\n",
    "    if len(arr) > 1:\n",
    "        mid = len(arr)//2\n",
    "        sub_array1 = arr[:mid]\n",
    "        sub_array2 = arr[mid:]\n",
    "        mergeSort(sub_array1)\n",
    "        mergeSort(sub_array2)\n",
    "        \n",
    "        i = j = k = 0\n",
    "\n",
    "        while i < len(sub_array1) and j < len(sub_array2):\n",
    "            if sub_array1[i] < sub_array2[j]:\n",
    "                arr[k] = sub_array1[i]\n",
    "                i += 1\n",
    "            else:\n",
    "                arr[k] = sub_array2[j]\n",
    "                j += 1\n",
    "            k += 1\n",
    "\n",
    "        while i < len(sub_array1):\n",
    "            arr[k] = sub_array1[i]\n",
    "            i += 1\n",
    "            k += 1\n",
    "\n",
    "        while j < len(sub_array2):\n",
    "            arr[k] = sub_array2[j]\n",
    "            j += 1\n",
    "            k += 1"
   ]
  },
  {
   "cell_type": "code",
   "execution_count": 29,
   "id": "07688aab-44ff-4677-a6cb-926cbf9f8b23",
   "metadata": {},
   "outputs": [
    {
     "name": "stdout",
     "output_type": "stream",
     "text": [
      "[ 2  2  2  2  2  2  2  2  2  2  2  2  3  3  3  3  4  4  4  5  5  5  5  5\n",
      "  5  5  5  5  5  5  5  5 15 15 15 15 15 15 15 21 21 21 21 24 24 24 24 24\n",
      " 30 30]\n"
     ]
    }
   ],
   "source": [
    "mergeSort(arr)\n",
    "print(arr)"
   ]
  },
  {
   "cell_type": "code",
   "execution_count": null,
   "id": "9ceaaa30-bb93-4dbe-b2f9-2aba98af23e4",
   "metadata": {},
   "outputs": [],
   "source": []
  }
 ],
 "metadata": {
  "kernelspec": {
   "display_name": "Python 3 (ipykernel)",
   "language": "python",
   "name": "python3"
  },
  "language_info": {
   "codemirror_mode": {
    "name": "ipython",
    "version": 3
   },
   "file_extension": ".py",
   "mimetype": "text/x-python",
   "name": "python",
   "nbconvert_exporter": "python",
   "pygments_lexer": "ipython3",
   "version": "3.11.5"
  },
  "widgets": {
   "application/vnd.jupyter.widget-state+json": {
    "state": {},
    "version_major": 2,
    "version_minor": 0
   }
  }
 },
 "nbformat": 4,
 "nbformat_minor": 5
}
