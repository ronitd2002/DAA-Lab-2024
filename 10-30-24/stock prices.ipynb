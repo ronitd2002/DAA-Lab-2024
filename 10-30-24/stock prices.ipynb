{
 "cells": [
  {
   "cell_type": "markdown",
   "metadata": {},
   "source": [
    "### Similar graph based approach to maximize profit and hence minimize cost"
   ]
  },
  {
   "cell_type": "code",
   "execution_count": 19,
   "metadata": {
    "collapsed": true
   },
   "outputs": [],
   "source": [
    "def maxprofit(prices, fee):\n",
    "    n = len(prices)\n",
    "    # dp[i][j] : max profit starting from day i\n",
    "    # j = 0 means not holding stock, j= 1 means holding stock\n",
    "    \n",
    "    dp = [[0]*2 for _ in range(n+1)]\n",
    "    \n",
    "    dp[0][0] = 0 # max profit on day 0 with no stock\n",
    "    dp[0][1] = -prices[0] # max profit on day 0 with the stock being bought\n",
    "    \n",
    "    for i in range(1,n):\n",
    "        dp[i][0] = max(dp[i-1][0], dp[i-1][1] + prices[i] - fee)\n",
    "        dp[i][1] = max(dp[i-1][1], dp[i-1][0] - prices[i])\n",
    "    \n",
    "    return dp[n-1][0]"
   ]
  },
  {
   "cell_type": "code",
   "execution_count": 20,
   "metadata": {},
   "outputs": [
    {
     "name": "stdout",
     "output_type": "stream",
     "text": [
      "The maximum profit possible is : 8\n"
     ]
    }
   ],
   "source": [
    "prices = [1,3,2,8,4,9]\n",
    "fee = 2\n",
    "print(f\"The maximum profit possible is : {maxprofit(prices,fee)}\")"
   ]
  },
  {
   "cell_type": "code",
   "execution_count": 21,
   "metadata": {},
   "outputs": [
    {
     "name": "stdout",
     "output_type": "stream",
     "text": [
      "The maximum profit possible is : 6\n"
     ]
    }
   ],
   "source": [
    "prices = [1,3,7,5,10,3]\n",
    "fee = 3\n",
    "print(f\"The maximum profit possible is : {maxprofit(prices,fee)}\")"
   ]
  },
  {
   "cell_type": "code",
   "execution_count": null,
   "metadata": {
    "collapsed": true
   },
   "outputs": [],
   "source": []
  }
 ],
 "metadata": {
  "kernelspec": {
   "display_name": "Python 3",
   "language": "python",
   "name": "python3"
  },
  "language_info": {
   "codemirror_mode": {
    "name": "ipython",
    "version": 3
   },
   "file_extension": ".py",
   "mimetype": "text/x-python",
   "name": "python",
   "nbconvert_exporter": "python",
   "pygments_lexer": "ipython3",
   "version": "3.6.3"
  }
 },
 "nbformat": 4,
 "nbformat_minor": 2
}
