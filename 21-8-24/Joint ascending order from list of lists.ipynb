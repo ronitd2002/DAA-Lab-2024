{
 "cells": [
  {
   "cell_type": "code",
   "execution_count": 1,
   "id": "20db9fd0",
   "metadata": {},
   "outputs": [],
   "source": [
    "# Function to merge two sorted arrays\n",
    "def mergeTwoArrays(arr1, arr2):\n",
    "    result = []\n",
    "    i, j = 0, 0\n",
    "    # Merge elements from both arrays in sorted order\n",
    "    while i < len(arr1) and j < len(arr2):\n",
    "        if arr1[i] < arr2[j]:\n",
    "            result.append(arr1[i])\n",
    "            i += 1\n",
    "        else:\n",
    "            result.append(arr2[j])\n",
    "            j += 1\n",
    "    # Append any remaining elements\n",
    "    result.extend(arr1[i:])\n",
    "    result.extend(arr2[j:])\n",
    "    return result"
   ]
  },
  {
   "cell_type": "code",
   "execution_count": 2,
   "id": "b8bb709c",
   "metadata": {},
   "outputs": [],
   "source": [
    "# Function to merge K sorted arrays\n",
    "def mergeKArrays(arrays):\n",
    "    # Start with the first array\n",
    "    merged_array = arrays[0]\n",
    "    # Merge each array one by one\n",
    "    for i in range(1, len(arrays)):\n",
    "        merged_array = mergeTwoArrays(merged_array, arrays[i])\n",
    "    return merged_array"
   ]
  },
  {
   "cell_type": "code",
   "execution_count": 3,
   "id": "d162e2f6",
   "metadata": {},
   "outputs": [
    {
     "name": "stdout",
     "output_type": "stream",
     "text": [
      "Output: [1, 1, 2, 3, 4, 4, 5, 6]\n"
     ]
    }
   ],
   "source": [
    "# Example usage\n",
    "arrays = [[1, 4, 5], [1, 3, 4], [2, 6]]\n",
    "print(\"Output:\", mergeKArrays(arrays))  # Output: [1, 1, 2, 3, 4, 4, 5, 6]"
   ]
  },
  {
   "cell_type": "code",
   "execution_count": null,
   "id": "0a689a75",
   "metadata": {},
   "outputs": [],
   "source": []
  }
 ],
 "metadata": {
  "kernelspec": {
   "display_name": "Python 3 (ipykernel)",
   "language": "python",
   "name": "python3"
  },
  "language_info": {
   "codemirror_mode": {
    "name": "ipython",
    "version": 3
   },
   "file_extension": ".py",
   "mimetype": "text/x-python",
   "name": "python",
   "nbconvert_exporter": "python",
   "pygments_lexer": "ipython3",
   "version": "3.12.3"
  }
 },
 "nbformat": 4,
 "nbformat_minor": 5
}
