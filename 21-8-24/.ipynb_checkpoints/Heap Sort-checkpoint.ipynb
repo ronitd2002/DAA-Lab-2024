{
 "cells": [
  {
   "cell_type": "markdown",
   "id": "98fcb5a5",
   "metadata": {},
   "source": [
    "# Heap Sort using `heapify()` and `BuildHeap()` from scratch."
   ]
  },
  {
   "cell_type": "code",
   "execution_count": 1,
   "id": "685f14b6",
   "metadata": {},
   "outputs": [],
   "source": [
    "# Function to heapify a subtree rooted at index i in array of size n\n",
    "def heapify(arr, n, i):\n",
    "    largest = i       # Initialize largest as root\n",
    "    left = 2 * i + 1  # Left child index\n",
    "    right = 2 * i + 2 # Right child index\n",
    "\n",
    "    # Check if left child exists and is greater than root\n",
    "    if left < n and arr[left] > arr[largest]:\n",
    "        largest = left\n",
    "\n",
    "    # Check if right child exists and is greater than current largest\n",
    "    if right < n and arr[right] > arr[largest]:\n",
    "        largest = right\n",
    "\n",
    "    # If the largest is not root, swap and continue heapifying\n",
    "    if largest != i:\n",
    "        arr[i], arr[largest] = arr[largest], arr[i]\n",
    "        heapify(arr, n, largest)"
   ]
  },
  {
   "cell_type": "code",
   "execution_count": 2,
   "id": "15724f8d",
   "metadata": {},
   "outputs": [],
   "source": [
    "# Function to build a max heap from the array\n",
    "def buildHeap(arr, n):\n",
    "    # Start from the last non-leaf node and go upwards\n",
    "    for i in range(n // 2 - 1, -1, -1):\n",
    "        heapify(arr, n, i)"
   ]
  },
  {
   "cell_type": "code",
   "execution_count": 3,
   "id": "708096a9",
   "metadata": {},
   "outputs": [],
   "source": [
    "# Function to perform heap sort\n",
    "def heapSort(arr):\n",
    "    n = len(arr)\n",
    "    \n",
    "    # Step 1: Build a max heap\n",
    "    buildHeap(arr, n)\n",
    "    \n",
    "    # Step 2: Extract elements one by one from the heap\n",
    "    for i in range(n - 1, 0, -1):\n",
    "        # Move the current root to the end\n",
    "        arr[i], arr[0] = arr[0], arr[i]\n",
    "        \n",
    "        # Call heapify on the reduced heap\n",
    "        heapify(arr, i, 0)"
   ]
  },
  {
   "cell_type": "code",
   "execution_count": 4,
   "id": "8dbecc38",
   "metadata": {},
   "outputs": [
    {
     "name": "stdout",
     "output_type": "stream",
     "text": [
      "Sorted array: [1, 3, 4, 5, 10]\n"
     ]
    }
   ],
   "source": [
    "# Example usage\n",
    "arr = [4, 10, 3, 5, 1]\n",
    "heapSort(arr)\n",
    "print(\"Sorted array:\", arr)"
   ]
  },
  {
   "cell_type": "code",
   "execution_count": null,
   "id": "effb4fc7",
   "metadata": {},
   "outputs": [],
   "source": []
  }
 ],
 "metadata": {
  "kernelspec": {
   "display_name": "Python 3 (ipykernel)",
   "language": "python",
   "name": "python3"
  },
  "language_info": {
   "codemirror_mode": {
    "name": "ipython",
    "version": 3
   },
   "file_extension": ".py",
   "mimetype": "text/x-python",
   "name": "python",
   "nbconvert_exporter": "python",
   "pygments_lexer": "ipython3",
   "version": "3.12.3"
  }
 },
 "nbformat": 4,
 "nbformat_minor": 5
}
