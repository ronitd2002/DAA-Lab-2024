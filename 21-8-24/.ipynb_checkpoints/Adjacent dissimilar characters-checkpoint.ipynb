{
 "cells": [
  {
   "cell_type": "code",
   "execution_count": 1,
   "id": "c1b78822",
   "metadata": {},
   "outputs": [],
   "source": [
    "# Function to rearrange characters of a string such that no two adjacent characters are the same\n",
    "def rearrangeString(s):\n",
    "    # Frequency dictionary for each character in the string\n",
    "    freq = [0] * 26\n",
    "    for char in s:\n",
    "        freq[ord(char) - ord('a')] += 1\n",
    "\n",
    "    # Create a max heap of characters based on their frequency\n",
    "    heap = []\n",
    "    for i in range(26):\n",
    "        if freq[i] > 0:\n",
    "            heap.append((-freq[i], chr(i + ord('a'))))\n",
    "\n",
    "    # Sort heap based on frequency\n",
    "    heap.sort()\n",
    "\n",
    "    result = []\n",
    "    prev_count, prev_char = 0, ''\n",
    "\n",
    "    # Process the heap\n",
    "    while heap:\n",
    "        count, char = heap.pop(0)\n",
    "        result.append(char)\n",
    "\n",
    "        # If there was a previous character with a leftover count, push it back\n",
    "        if prev_count < 0:\n",
    "            heap.append((prev_count, prev_char))\n",
    "            heap.sort()\n",
    "\n",
    "        # Update the previous character and count\n",
    "        prev_count = count + 1\n",
    "        prev_char = char\n",
    "\n",
    "    rearranged = ''.join(result)\n",
    "    # Check if rearrangement is valid\n",
    "    for i in range(1, len(rearranged)):\n",
    "        if rearranged[i] == rearranged[i - 1]:\n",
    "            return \"\"\n",
    "\n",
    "    return rearranged"
   ]
  },
  {
   "cell_type": "code",
   "execution_count": 2,
   "id": "5df4cc29",
   "metadata": {},
   "outputs": [
    {
     "name": "stdout",
     "output_type": "stream",
     "text": [
      "Output for s1: ababa\n",
      "Output for s2: aba\n"
     ]
    }
   ],
   "source": [
    "# Example usage\n",
    "s1 = \"aaabb\"\n",
    "s2 = \"aaab\"\n",
    "print(\"Output for s1:\", rearrangeString(s1))  # Output: \"ababa\"\n",
    "print(\"Output for s2:\", rearrangeString(s2))  # Output: \"\""
   ]
  },
  {
   "cell_type": "code",
   "execution_count": null,
   "id": "7917739c",
   "metadata": {},
   "outputs": [],
   "source": []
  }
 ],
 "metadata": {
  "kernelspec": {
   "display_name": "Python 3 (ipykernel)",
   "language": "python",
   "name": "python3"
  },
  "language_info": {
   "codemirror_mode": {
    "name": "ipython",
    "version": 3
   },
   "file_extension": ".py",
   "mimetype": "text/x-python",
   "name": "python",
   "nbconvert_exporter": "python",
   "pygments_lexer": "ipython3",
   "version": "3.12.3"
  }
 },
 "nbformat": 4,
 "nbformat_minor": 5
}
