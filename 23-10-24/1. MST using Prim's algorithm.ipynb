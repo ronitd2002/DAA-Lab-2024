{
 "cells": [
  {
   "cell_type": "markdown",
   "id": "94b3cb0c",
   "metadata": {},
   "source": [
    "## Prim's Algorithm"
   ]
  },
  {
   "cell_type": "markdown",
   "id": "7014c5ee",
   "metadata": {},
   "source": [
    "Given a weighted, undirected, and connected graph of `V` vertices and `E` edges. The task is to find the sum of weights of the edges of the Minimum Spanning Tree. Also find the edges involved in formation of MST.\n",
    "\n",
    "Expected Time Complexity: O($Elog(V)$).\n",
    "Expected Auxiliary Space: O($V^2$).\n",
    "\n",
    "Example1:\n",
    "\n",
    "**V**=5, \n",
    "**edges** = ({0, 1, 2), (0, 3, 6), (1, 2, 3), (1, 3, 8), (1, 4, 5), (4, 2, 7)} \\\n",
    "**Result** : 16 \n",
    "**MST**={(0, 1), (0, 3), (1, 2), (1, 4)}"
   ]
  },
  {
   "cell_type": "code",
   "execution_count": 4,
   "id": "f59776f6",
   "metadata": {},
   "outputs": [],
   "source": [
    "def prim_mst(V, edges):\n",
    "    \n",
    "    #create adjacency List\n",
    "    adj = {i:[] for i in range(V)}\n",
    "    \n",
    "    for u, v, weight in edges:\n",
    "        adj[u].append((v,weight))\n",
    "        adj[v].append((u,weight))\n",
    "    #adjacency List for undirected graph\n",
    "\n",
    "    #prim's algorithm\n",
    "    mst_weight = 0\n",
    "    mst_edges = [] \n",
    "    visited =  [False]*V\n",
    "    key = [float('inf')]*V\n",
    "    parent= [-1]* V\n",
    "\n",
    "    key[0] = 0\n",
    "\n",
    "    for _ in range(V):\n",
    "        u= -1\n",
    "        min_key = float('inf')\n",
    "        for i in range(V):\n",
    "            if not visited[i] and key[i]<min_key: \n",
    "                min_key = key[i]\n",
    "                u = i\n",
    "                \n",
    "        visited[u] = True\n",
    "        \n",
    "        if parent[u] != -1:\n",
    "            mst_edges.append((parent[u],u)) \n",
    "            mst_weight += key[u]\n",
    "\n",
    "        \n",
    "        for neighbour, weight in adj[u]:\n",
    "            if not visited[neighbour] and weight < key[neighbour]:\n",
    "                key[neighbour] = weight\n",
    "                parent[neighbour] = u\n",
    "\n",
    "    return mst_weight, mst_edges"
   ]
  },
  {
   "cell_type": "code",
   "execution_count": 6,
   "id": "0168d915",
   "metadata": {},
   "outputs": [
    {
     "name": "stdout",
     "output_type": "stream",
     "text": [
      "The minimum weight for the given tree found using prim's algo is = 16\n",
      "The edges of the MST for the given tree found using prim's algo is = [(0, 1), (1, 2), (1, 4), (0, 3)]\n"
     ]
    }
   ],
   "source": [
    "V=5\n",
    "edges = [[0,1,2], [0,3,6], [1,2,3], [1,3,8], [1,4,5],[4,2,7]]\n",
    "\n",
    "min_weight, min_edges = prim_mst(V, edges)\n",
    "\n",
    "print(f\"The minimum weight for the given tree found using prim's algo is = {min_weight}\")\n",
    "print(f\"The edges of the MST for the given tree found using prim's algo is = {min_edges}\")"
   ]
  },
  {
   "cell_type": "code",
   "execution_count": 7,
   "id": "eb487b2f",
   "metadata": {},
   "outputs": [
    {
     "name": "stdout",
     "output_type": "stream",
     "text": [
      "The minimum weight for the given tree found using prim's algo is = 7\n",
      "The edges of the MST for the given tree found using prim's algo is = [(0, 1), (1, 2), (1, 3)]\n"
     ]
    }
   ],
   "source": [
    "V1 = 4\n",
    "edges1 = [[0,1,2], [0,3,5], [1,3,3], [1,2,2], [2,3,4]]\n",
    "\n",
    "min_weight, min_edges = prim_mst(V1,edges1)\n",
    "\n",
    "print(f\"The minimum weight for the given tree found using prim's algo is = {min_weight}\") \n",
    "print(f\"The edges of the MST for the given tree found using prim's algo is = {min_edges}\")"
   ]
  },
  {
   "cell_type": "code",
   "execution_count": null,
   "id": "34970b43",
   "metadata": {},
   "outputs": [],
   "source": []
  }
 ],
 "metadata": {
  "kernelspec": {
   "display_name": "Python 3 (ipykernel)",
   "language": "python",
   "name": "python3"
  },
  "language_info": {
   "codemirror_mode": {
    "name": "ipython",
    "version": 3
   },
   "file_extension": ".py",
   "mimetype": "text/x-python",
   "name": "python",
   "nbconvert_exporter": "python",
   "pygments_lexer": "ipython3",
   "version": "3.12.3"
  }
 },
 "nbformat": 4,
 "nbformat_minor": 5
}
