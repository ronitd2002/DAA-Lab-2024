{
 "cells": [
  {
   "cell_type": "markdown",
   "id": "7368ebd4",
   "metadata": {},
   "source": [
    "Given the root of a nearly complete binary tree, return the number of the nodes in the tree.\n",
    "\n",
    "**NOTE: You have to make the tree from level order traversal.**\n",
    "\n",
    "Time Complexity: O ($log(N)*log(N)$) \\\n",
    "Space Complexity: O($H$)\n",
    "\n",
    "**Input** = [1,2,3,4,5,6] \\\n",
    "**Output**: 6"
   ]
  },
  {
   "cell_type": "code",
   "execution_count": 15,
   "id": "25e67889",
   "metadata": {},
   "outputs": [],
   "source": [
    "class TreeNode:\n",
    "    def __init__(self, val= 0, left= None, right= None):\n",
    "        self.val= val\n",
    "        self.left= left\n",
    "        self.right= right\n",
    "        #empty tree with right and left components"
   ]
  },
  {
   "cell_type": "code",
   "execution_count": 16,
   "id": "e770ac61",
   "metadata": {},
   "outputs": [],
   "source": [
    "def LOR(level_order):\n",
    "    if not level_order: \n",
    "        return None\n",
    "\n",
    "    root = TreeNode(level_order[0])\n",
    "    queue = [root]\n",
    "    i=1\n",
    "    \n",
    "    while i< len(level_order): \n",
    "        current = queue.pop(0)\n",
    "        \n",
    "        if i< len(level_order) and level_order[i] is not None: \n",
    "            current.left = TreeNode(level_order[i]) \n",
    "            queue.append(current.left)\n",
    "        i+=1\n",
    "\n",
    "        if i< len(level_order) and level_order[i] is not None: \n",
    "            current.right = TreeNode(level_order[i]) \n",
    "            queue.append(current.right)\n",
    "        i+=1\n",
    "\n",
    "    return root"
   ]
  },
  {
   "cell_type": "code",
   "execution_count": 17,
   "id": "a3c0b86a",
   "metadata": {},
   "outputs": [],
   "source": [
    "#left height of the binary tree\n",
    "def get_left_depth(node):\n",
    "    depth =0\n",
    "    \n",
    "    while node:\n",
    "        node = node.left\n",
    "        depth+=1\n",
    "\n",
    "    return depth\n",
    "\n",
    "#right height of the binary tree\n",
    "def get_right_depth(node):\n",
    "    depth = 0\n",
    "    \n",
    "    while node:\n",
    "        node = node.right\n",
    "        depth += 1\n",
    "        \n",
    "    return depth\n",
    "\n",
    "# count func\n",
    "def count_nodes (root):\n",
    "    if not root:\n",
    "        return 0\n",
    "\n",
    "    left_n = get_left_depth(root)\n",
    "    right_n = get_right_depth(root)\n",
    "\n",
    "    if left_n == right_n:\n",
    "        return (1<< left_n)-1 #for perfect binary tree\n",
    "\n",
    "    return 1+ count_nodes(root.left)+ count_nodes(root.right) #recursively count nodes for sub-trees."
   ]
  },
  {
   "cell_type": "code",
   "execution_count": 18,
   "id": "991c4d72",
   "metadata": {},
   "outputs": [
    {
     "name": "stdout",
     "output_type": "stream",
     "text": [
      "The number of nodes in this tree built using level order reversal is = 6\n"
     ]
    }
   ],
   "source": [
    "level_order = [1,2,3,4,5,6]\n",
    "#tree TreeNode() \n",
    "root = LOR(level_order)\n",
    "result = count_nodes(root)\n",
    "\n",
    "print (f\"The number of nodes in this tree built using level order reversal is = {result}\")"
   ]
  },
  {
   "cell_type": "code",
   "execution_count": null,
   "id": "a85783ee",
   "metadata": {},
   "outputs": [],
   "source": []
  }
 ],
 "metadata": {
  "kernelspec": {
   "display_name": "Python 3 (ipykernel)",
   "language": "python",
   "name": "python3"
  },
  "language_info": {
   "codemirror_mode": {
    "name": "ipython",
    "version": 3
   },
   "file_extension": ".py",
   "mimetype": "text/x-python",
   "name": "python",
   "nbconvert_exporter": "python",
   "pygments_lexer": "ipython3",
   "version": "3.12.3"
  }
 },
 "nbformat": 4,
 "nbformat_minor": 5
}
