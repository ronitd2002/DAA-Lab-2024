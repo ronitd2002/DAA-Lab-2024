{
 "cells": [
  {
   "cell_type": "code",
   "execution_count": 1,
   "id": "4068a1fa-6949-408e-b2c8-e3c7163d3ffc",
   "metadata": {},
   "outputs": [],
   "source": [
    "import numpy as np"
   ]
  },
  {
   "cell_type": "code",
   "execution_count": 2,
   "id": "d0e3c7bb-54f0-4d66-a6a0-b84f429d40ba",
   "metadata": {},
   "outputs": [
    {
     "data": {
      "text/plain": [
       "array([410, 476, 488, 437, 152, 176, 276, 322, 260,   1, 435, 250, 464,\n",
       "       439, 421, 133, 418, 129, 194, 484, 468, 280, 233, 268, 390, 441,\n",
       "        38, 204,  32,  60, 488, 155, 119,  14, 402, 299,  41, 445, 307,\n",
       "       166, 239,  32, 449, 335, 405, 435, 120, 179, 397, 321, 243,  99,\n",
       "       176,  79, 452, 244, 213, 243,  84, 341, 248, 313, 426, 480,   8,\n",
       "       180, 157, 328,  61, 489, 312, 492, 291,  94, 349, 268, 472, 219,\n",
       "       465, 313, 292, 376, 267, 162, 256, 321, 206, 249, 326, 342, 473,\n",
       "       364, 311, 421,  11, 129, 208,   1, 113, 395])"
      ]
     },
     "execution_count": 2,
     "metadata": {},
     "output_type": "execute_result"
    }
   ],
   "source": [
    "A = np.random.randint(1,500,100)\n",
    "A"
   ]
  },
  {
   "cell_type": "code",
   "execution_count": 8,
   "id": "2ce250ac-6aa3-4dd2-ab99-4b39d56305e0",
   "metadata": {},
   "outputs": [],
   "source": [
    "def bubble(a):\n",
    "    for i in range(len(a)):\n",
    "        for j in range(len(a)-i-1):\n",
    "            if a[j] > a[j+1]:\n",
    "                (a[j], a[j+1]) = (a[j+1], a[j])\n",
    "    return a"
   ]
  },
  {
   "cell_type": "code",
   "execution_count": 9,
   "id": "84e64535-be2a-4c8f-b806-4749c686fa41",
   "metadata": {},
   "outputs": [
    {
     "name": "stdout",
     "output_type": "stream",
     "text": [
      "sorted : [  1   1   8  11  14  32  32  38  41  60  61  79  84  94  99 113 119 120\n",
      " 129 129 133 152 155 157 162 166 176 176 179 180 194 204 206 208 213 219\n",
      " 233 239 243 243 244 248 249 250 256 260 267 268 268 276 280 291 292 299\n",
      " 307 311 312 313 313 321 321 322 326 328 335 341 342 349 364 376 390 395\n",
      " 397 402 405 410 418 421 421 426 435 435 437 439 441 445 449 452 464 465\n",
      " 468 472 473 476 480 484 488 488 489 492]\n"
     ]
    }
   ],
   "source": [
    "print(f\"sorted : {bubble(A)}\")"
   ]
  },
  {
   "cell_type": "code",
   "execution_count": null,
   "id": "c1ba96ce-48da-4698-a0a3-33bad7d6f00c",
   "metadata": {},
   "outputs": [],
   "source": []
  }
 ],
 "metadata": {
  "kernelspec": {
   "display_name": "Python 3 (ipykernel)",
   "language": "python",
   "name": "python3"
  },
  "language_info": {
   "codemirror_mode": {
    "name": "ipython",
    "version": 3
   },
   "file_extension": ".py",
   "mimetype": "text/x-python",
   "name": "python",
   "nbconvert_exporter": "python",
   "pygments_lexer": "ipython3",
   "version": "3.11.5"
  },
  "widgets": {
   "application/vnd.jupyter.widget-state+json": {
    "state": {},
    "version_major": 2,
    "version_minor": 0
   }
  }
 },
 "nbformat": 4,
 "nbformat_minor": 5
}
