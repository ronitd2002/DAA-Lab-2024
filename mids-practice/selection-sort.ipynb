{
 "cells": [
  {
   "cell_type": "code",
   "execution_count": 2,
   "id": "86634943-2369-4f30-ae97-b63f619884a9",
   "metadata": {},
   "outputs": [],
   "source": [
    "import numpy as np"
   ]
  },
  {
   "cell_type": "code",
   "execution_count": 28,
   "id": "0a23c2d2-8ec7-4240-887b-4ac612aadd7c",
   "metadata": {},
   "outputs": [
    {
     "data": {
      "text/plain": [
       "array([187, 343, 147, 901, 375, 362, 959, 810, 997, 196, 271, 691, 374,\n",
       "       762, 869, 216, 447, 101, 128, 861, 155, 580, 200, 953, 275, 859,\n",
       "        84, 463, 890, 503, 524, 826, 700, 291, 979, 834, 592, 261, 372,\n",
       "       415, 421, 802, 466, 713, 490, 995, 811, 344, 176, 104, 369, 514,\n",
       "       170, 867,  31,  93, 684, 683, 956, 379, 161, 432, 273, 685, 560,\n",
       "       375, 113, 106, 457, 447, 734, 159, 775, 238, 670, 775, 346,  51,\n",
       "       749, 515])"
      ]
     },
     "execution_count": 28,
     "metadata": {},
     "output_type": "execute_result"
    }
   ],
   "source": [
    "A = np.random.randint(0,1000,80)\n",
    "A"
   ]
  },
  {
   "cell_type": "code",
   "execution_count": 29,
   "id": "ec3c035b-fc4e-4e2c-9a7d-ee3e7a4057e2",
   "metadata": {},
   "outputs": [],
   "source": [
    "def sel_sort(a):\n",
    "    #in-place sorting algorithm\n",
    "    for i in range(len(a)):\n",
    "        min_i = i\n",
    "        for j in range(i+1, len(a)):\n",
    "            if a[j] < a[min_i]:\n",
    "                (a[j], a[min_i]) = (a[min_i], a[j])\n",
    "                min_i = i\n",
    "    return a"
   ]
  },
  {
   "cell_type": "code",
   "execution_count": 30,
   "id": "cf0e2a31-cae5-4f40-a81d-f4dc810d3b73",
   "metadata": {},
   "outputs": [
    {
     "name": "stdout",
     "output_type": "stream",
     "text": [
      "Sorted array:\n",
      "[ 31  51  84  93 101 104 106 113 128 147 155 159 161 170 176 187 196 200\n",
      " 216 238 261 271 273 275 291 343 344 346 362 369 372 374 375 375 379 415\n",
      " 421 432 447 447 457 463 466 490 503 514 515 524 560 580 592 670 683 684\n",
      " 685 691 700 713 734 749 762 775 775 802 810 811 826 834 859 861 867 869\n",
      " 890 901 953 956 959 979 995 997]\n"
     ]
    }
   ],
   "source": [
    "a1 = sel_sort(A)\n",
    "print(f\"Sorted array:\\n{a1}\")"
   ]
  },
  {
   "cell_type": "code",
   "execution_count": 31,
   "id": "1f83ddc7-35e5-4197-a528-7811f62418f5",
   "metadata": {},
   "outputs": [
    {
     "data": {
      "text/plain": [
       "array([ 31,  51,  84,  93, 101, 104, 106, 113, 128, 147, 155, 159, 161,\n",
       "       170, 176, 187, 196, 200, 216, 238, 261, 271, 273, 275, 291, 343,\n",
       "       344, 346, 362, 369, 372, 374, 375, 375, 379, 415, 421, 432, 447,\n",
       "       447, 457, 463, 466, 490, 503, 514, 515, 524, 560, 580, 592, 670,\n",
       "       683, 684, 685, 691, 700, 713, 734, 749, 762, 775, 775, 802, 810,\n",
       "       811, 826, 834, 859, 861, 867, 869, 890, 901, 953, 956, 959, 979,\n",
       "       995, 997])"
      ]
     },
     "execution_count": 31,
     "metadata": {},
     "output_type": "execute_result"
    }
   ],
   "source": [
    "a2 = np.sort(A)\n",
    "a2"
   ]
  },
  {
   "cell_type": "code",
   "execution_count": 32,
   "id": "237ba6bf-3c68-4e75-aa8a-2891e498229c",
   "metadata": {},
   "outputs": [
    {
     "data": {
      "text/plain": [
       "True"
      ]
     },
     "execution_count": 32,
     "metadata": {},
     "output_type": "execute_result"
    }
   ],
   "source": [
    "np.array_equal(a1,a2)"
   ]
  },
  {
   "cell_type": "code",
   "execution_count": null,
   "id": "109c6be2-7ed2-46ec-8d3d-e0271c132a73",
   "metadata": {},
   "outputs": [],
   "source": []
  }
 ],
 "metadata": {
  "kernelspec": {
   "display_name": "Python 3 (ipykernel)",
   "language": "python",
   "name": "python3"
  },
  "language_info": {
   "codemirror_mode": {
    "name": "ipython",
    "version": 3
   },
   "file_extension": ".py",
   "mimetype": "text/x-python",
   "name": "python",
   "nbconvert_exporter": "python",
   "pygments_lexer": "ipython3",
   "version": "3.11.5"
  },
  "widgets": {
   "application/vnd.jupyter.widget-state+json": {
    "state": {},
    "version_major": 2,
    "version_minor": 0
   }
  }
 },
 "nbformat": 4,
 "nbformat_minor": 5
}
