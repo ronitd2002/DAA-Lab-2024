{
 "cells": [
  {
   "cell_type": "markdown",
   "id": "3080975c",
   "metadata": {},
   "source": [
    "Given a string `s`, find the longest palindromic subsequence's length in `s`. \n",
    "\n",
    "(A subsequence is a sequence that can be derived from another sequence by deleting some or no elements without changing the order of the remaining elements.)\n",
    "\n",
    "**Time Complexity**: O(NN)\n",
    "\n",
    "**Input**: s = \"bbbab\" \\\n",
    "**Output**: 4 \\\n",
    "\\\n",
    "*Explanation*: One possible longest palindromic subsequence is \"bbbb\".\n"
   ]
  },
  {
   "cell_type": "code",
   "execution_count": 1,
   "id": "00cd21ac",
   "metadata": {},
   "outputs": [],
   "source": [
    "def lps(s):\n",
    "    n = len(s)\n",
    "    dp = [[0]*n for _ in range(n)]\n",
    "    # dp matrix keeps the longest substring palindromic length as dp[i][j] giving the value for the same\n",
    "    # between the ith character and the jth character.\n",
    "\n",
    "    for i in range(n): #base case \n",
    "        dp[i][i]= 1 \n",
    "        \n",
    "    for length in range(2,n+1): \n",
    "        \n",
    "        for i in range(n-length +1): \n",
    "            j = i+length-1 \n",
    "            \n",
    "            if s[i] == s[j]: \n",
    "                dp[i][j] = 2 + dp[i+1][j-1] \n",
    "            else: \n",
    "                dp[i][j] = max(dp[i+1][j], dp[i][j-1])\n",
    "    \n",
    "    #print(dp)\n",
    "    \n",
    "    return dp[0][n-1]"
   ]
  },
  {
   "cell_type": "code",
   "execution_count": 2,
   "id": "7430145e",
   "metadata": {},
   "outputs": [
    {
     "name": "stdout",
     "output_type": "stream",
     "text": [
      "length of longest palindrome is subsequence = 4\n"
     ]
    }
   ],
   "source": [
    "s = 'bbbab'\n",
    "result = lps(s)\n",
    "print(f\"length of longest palindrome is subsequence = {result}\")"
   ]
  },
  {
   "cell_type": "code",
   "execution_count": 3,
   "id": "1b182b0b",
   "metadata": {},
   "outputs": [
    {
     "name": "stdout",
     "output_type": "stream",
     "text": [
      "length of longest palindrome is subsequence = 7\n"
     ]
    }
   ],
   "source": [
    "st = 'abracadabra'\n",
    "print(f\"length of longest palindrome is subsequence = {lps(st)}\")"
   ]
  },
  {
   "cell_type": "code",
   "execution_count": 4,
   "id": "a67d7f27",
   "metadata": {},
   "outputs": [
    {
     "name": "stdout",
     "output_type": "stream",
     "text": [
      "length of longest palindrome is subsequence = 9\n"
     ]
    }
   ],
   "source": [
    "sr = 'malayalam'\n",
    "print(f\"length of longest palindrome is subsequence = {lps(sr)}\")"
   ]
  },
  {
   "cell_type": "code",
   "execution_count": null,
   "id": "65845370",
   "metadata": {},
   "outputs": [],
   "source": []
  }
 ],
 "metadata": {
  "kernelspec": {
   "display_name": "Python 3 (ipykernel)",
   "language": "python",
   "name": "python3"
  },
  "language_info": {
   "codemirror_mode": {
    "name": "ipython",
    "version": 3
   },
   "file_extension": ".py",
   "mimetype": "text/x-python",
   "name": "python",
   "nbconvert_exporter": "python",
   "pygments_lexer": "ipython3",
   "version": "3.12.3"
  }
 },
 "nbformat": 4,
 "nbformat_minor": 5
}
