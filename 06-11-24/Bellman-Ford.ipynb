{
 "cells": [
  {
   "cell_type": "code",
   "execution_count": 8,
   "metadata": {
    "collapsed": true
   },
   "outputs": [],
   "source": [
    "def bellman_ford(edges,n,start):\n",
    "    dist = [float('inf')]*n\n",
    "    dist[start] = 0\n",
    "    \n",
    "    for _ in range(n-1):\n",
    "        for u,v,weight in edges:\n",
    "            if dist[u] != float('inf') and dist[u]+weight < dist[v]:\n",
    "                dist[v] = dist[u] + weight\n",
    "    for u, v, weight in edges:\n",
    "        if dist[u] != float('inf') and dist[u] + weight < dist[v]:\n",
    "            print(\"graph contains negative weight in cycle\")\n",
    "    \n",
    "    return dist"
   ]
  },
  {
   "cell_type": "code",
   "execution_count": 9,
   "metadata": {},
   "outputs": [
    {
     "data": {
      "text/plain": [
       "[(0, 1, 10),\n",
       " (0, 2, 3),\n",
       " (1, 2, 1),\n",
       " (2, 1, 4),\n",
       " (1, 3, 2),\n",
       " (2, 3, 8),\n",
       " (2, 4, 2),\n",
       " (3, 4, 7),\n",
       " (4, 3, 9)]"
      ]
     },
     "execution_count": 9,
     "metadata": {},
     "output_type": "execute_result"
    }
   ],
   "source": [
    "edges = [(0,1,10),(0,2,3),(1,2,1),(2,1,4),(1,3,2),(2,3,8),(2,4,2),(3,4,7),(4,3,9)]\n",
    "edges"
   ]
  },
  {
   "cell_type": "code",
   "execution_count": 10,
   "metadata": {
    "collapsed": true
   },
   "outputs": [],
   "source": [
    "start_vertex = 0\n",
    "n = 5\n",
    "distances = bellman_ford(edges, n, start_vertex)"
   ]
  },
  {
   "cell_type": "code",
   "execution_count": 11,
   "metadata": {},
   "outputs": [
    {
     "data": {
      "text/plain": [
       "[0, 7, 3, 9, 5]"
      ]
     },
     "execution_count": 11,
     "metadata": {},
     "output_type": "execute_result"
    }
   ],
   "source": [
    "distances"
   ]
  },
  {
   "cell_type": "code",
   "execution_count": null,
   "metadata": {
    "collapsed": true
   },
   "outputs": [],
   "source": []
  }
 ],
 "metadata": {
  "kernelspec": {
   "display_name": "Python 3 (ipykernel)",
   "language": "python",
   "name": "python3"
  },
  "language_info": {
   "codemirror_mode": {
    "name": "ipython",
    "version": 3
   },
   "file_extension": ".py",
   "mimetype": "text/x-python",
   "name": "python",
   "nbconvert_exporter": "python",
   "pygments_lexer": "ipython3",
   "version": "3.6.3"
  }
 },
 "nbformat": 4,
 "nbformat_minor": 2
}
