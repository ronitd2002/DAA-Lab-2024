{
 "cells": [
  {
   "cell_type": "code",
   "execution_count": 6,
   "metadata": {},
   "outputs": [
    {
     "data": {
      "text/plain": [
       "[(0, 1, 10),\n",
       " (0, 2, 3),\n",
       " (1, 2, 1),\n",
       " (2, 1, 4),\n",
       " (1, 3, 2),\n",
       " (2, 3, 8),\n",
       " (2, 4, 2),\n",
       " (3, 4, 7),\n",
       " (4, 3, 9)]"
      ]
     },
     "execution_count": 6,
     "metadata": {},
     "output_type": "execute_result"
    }
   ],
   "source": [
    "edges = [(0,1,10),(0,2,3),(1,2,1),(2,1,4),(1,3,2),(2,3,8),(2,4,2),(3,4,7),(4,3,9)]\n",
    "edges"
   ]
  },
  {
   "cell_type": "code",
   "execution_count": 7,
   "metadata": {},
   "outputs": [
    {
     "data": {
      "text/plain": [
       "5"
      ]
     },
     "execution_count": 7,
     "metadata": {},
     "output_type": "execute_result"
    }
   ],
   "source": [
    "n=5\n",
    "n"
   ]
  },
  {
   "cell_type": "code",
   "execution_count": 8,
   "metadata": {
    "collapsed": true
   },
   "outputs": [],
   "source": [
    "dist = [[float('inf')]*n for _ in range(n)]\n",
    "for i in range(n):\n",
    "    dist[i][i] = 0\n",
    "\n",
    "for u,v, weight in edges:\n",
    "    dist[u][v] = weight\n",
    "    dist[v][u] = weight #symmetric matrix\n",
    "        \n",
    "for k in range(n):\n",
    "    for i in range(n):\n",
    "        for j in range(n):\n",
    "            if dist[i][j] > dist[i][k] + dist[k][j]:\n",
    "                dist[i][j] = dist[i][k] + dist[k][j]"
   ]
  },
  {
   "cell_type": "code",
   "execution_count": 9,
   "metadata": {},
   "outputs": [
    {
     "name": "stdout",
     "output_type": "stream",
     "text": [
      "[0, 7, 3, 9, 5]\n",
      "[7, 0, 4, 2, 6]\n",
      "[3, 4, 0, 6, 2]\n",
      "[9, 2, 6, 0, 8]\n",
      "[5, 6, 2, 8, 0]\n"
     ]
    }
   ],
   "source": [
    "for row in dist:\n",
    "    print(row)"
   ]
  },
  {
   "cell_type": "code",
   "execution_count": null,
   "metadata": {
    "collapsed": true
   },
   "outputs": [],
   "source": []
  }
 ],
 "metadata": {
  "kernelspec": {
   "display_name": "Python 3 (ipykernel)",
   "language": "python",
   "name": "python3"
  },
  "language_info": {
   "codemirror_mode": {
    "name": "ipython",
    "version": 3
   },
   "file_extension": ".py",
   "mimetype": "text/x-python",
   "name": "python",
   "nbconvert_exporter": "python",
   "pygments_lexer": "ipython3",
   "version": "3.6.3"
  }
 },
 "nbformat": 4,
 "nbformat_minor": 2
}
