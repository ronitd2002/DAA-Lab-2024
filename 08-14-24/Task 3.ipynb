{
 "cells": [
  {
   "cell_type": "markdown",
   "id": "50dbdbbf-deb5-41bc-b68f-3c269119ad03",
   "metadata": {},
   "source": [
    "Find nth fibonacci number using matrix exponentiation"
   ]
  },
  {
   "cell_type": "code",
   "execution_count": 40,
   "id": "d275e4e8-caab-4fee-aeed-818b0868f3be",
   "metadata": {},
   "outputs": [],
   "source": [
    "import numpy as np\n",
    "import matplotlib.pyplot as plt"
   ]
  },
  {
   "cell_type": "code",
   "execution_count": 41,
   "id": "28d465a9-4ac5-4922-9f61-84ed2f01a5f1",
   "metadata": {},
   "outputs": [],
   "source": [
    "def matrix_multiply(A, B):\n",
    "    result = [[0, 0], [0, 0]]\n",
    "    for i in range(2):\n",
    "        for j in range(2):\n",
    "            for k in range(2):\n",
    "                result[i][j] += A[i][k] * B[k][j]\n",
    "    return result\n",
    "\n",
    "def matrix_power(matrix, k):\n",
    "    # Base cases\n",
    "    if k == 0:\n",
    "        return [[1, 0], [0, 1]]\n",
    "    if k == 1:\n",
    "        return matrix\n",
    "    \n",
    "    half_power = matrix_power(matrix, k // 2)\n",
    "    \n",
    "    if k % 2 == 0:\n",
    "        return matrix_multiply(half_power, half_power)\n",
    "    else:\n",
    "        return matrix_multiply(matrix, matrix_multiply(half_power, half_power))"
   ]
  },
  {
   "cell_type": "code",
   "execution_count": 42,
   "id": "33366065-cbb9-40b2-afea-9f0d68a62cf5",
   "metadata": {},
   "outputs": [
    {
     "data": {
      "text/plain": [
       "[[1, 1], [1, 0]]"
      ]
     },
     "execution_count": 42,
     "metadata": {},
     "output_type": "execute_result"
    }
   ],
   "source": [
    "fib = [0,1,1]\n",
    "fib_m = [[fib[2],fib[1]],[fib[1],fib[0]]]\n",
    "fib_m"
   ]
  },
  {
   "cell_type": "code",
   "execution_count": 43,
   "id": "951cc18c-5251-4d7d-a280-4b314cf2049f",
   "metadata": {},
   "outputs": [
    {
     "name": "stdout",
     "output_type": "stream",
     "text": [
      "Matrix^7 =\n",
      "[21, 13]\n",
      "[13, 8]\n",
      "\n",
      "Answer = 13\n"
     ]
    }
   ],
   "source": [
    "N = 7\n",
    "\n",
    "result = matrix_power(fib_m, N)\n",
    "print(f\"Matrix^{N} =\")\n",
    "for row in result:\n",
    "    print(row)\n",
    "print(f\"\\nAnswer = {result[1][0]}\")"
   ]
  },
  {
   "cell_type": "code",
   "execution_count": 44,
   "id": "13650fe1-962c-44c6-a5aa-77c7d8d49ca2",
   "metadata": {},
   "outputs": [
    {
     "name": "stdout",
     "output_type": "stream",
     "text": [
      "\n",
      "Answer = [0, 1, 1, 2, 3, 5, 8, 13, 21, 34, 55, 89, 144, 233, 377, 610, 987, 1597, 2584, 4181, 6765, 10946, 17711, 28657, 46368, 75025, 121393, 196418, 317811, 514229, 832040, 1346269, 2178309, 3524578, 5702887, 9227465, 14930352, 24157817, 39088169, 63245986, 102334155, 165580141, 267914296, 433494437, 701408733, 1134903170, 1836311903, 2971215073, 4807526976, 7778742049]\n"
     ]
    },
    {
     "data": {
      "image/png": "[encoded data removed]",
      "text/plain": [
       "<Figure size 640x480 with 1 Axes>"
      ]
     },
     "metadata": {},
     "output_type": "display_data"
    }
   ],
   "source": [
    "N = np.arange(50)\n",
    "result = []\n",
    "for n in N:\n",
    "    res = matrix_power(fib_m, n)\n",
    "    result.append(res[1][0])\n",
    "print(f\"\\nAnswer = {result}\")\n",
    "\n",
    "plt.style.use('classic')\n",
    "plt.title(\"fibonacci series\")\n",
    "plt.plot(result,ls = \"--\",lw = 1.5, color = \"k\")\n",
    "plt.show()"
   ]
  },
  {
   "cell_type": "code",
   "execution_count": null,
   "id": "cea39855-dfeb-4ffa-9241-cec46a9afbae",
   "metadata": {},
   "outputs": [],
   "source": []
  }
 ],
 "metadata": {
  "kernelspec": {
   "display_name": "Python 3 (ipykernel)",
   "language": "python",
   "name": "python3"
  },
  "language_info": {
   "codemirror_mode": {
    "name": "ipython",
    "version": 3
   },
   "file_extension": ".py",
   "mimetype": "text/x-python",
   "name": "python",
   "nbconvert_exporter": "python",
   "pygments_lexer": "ipython3",
   "version": "3.11.5"
  },
  "widgets": {
   "application/vnd.jupyter.widget-state+json": {
    "state": {},
    "version_major": 2,
    "version_minor": 0
   }
  }
 },
 "nbformat": 4,
 "nbformat_minor": 5
}
