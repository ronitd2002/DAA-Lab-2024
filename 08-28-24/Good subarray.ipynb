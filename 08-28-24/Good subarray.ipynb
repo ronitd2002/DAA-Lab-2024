{
 "cells": [
  {
   "cell_type": "markdown",
   "id": "e109b416",
   "metadata": {},
   "source": [
    "# Sliding window method. \n",
    "\n",
    "Start with element 1 and iterate till distinct element number k is reached. Iterate the right slider. Once the distinct elements are exhausted i.e k is \"achieved\", we move the left slider and start from scratch with left as the starting index. This function calculates valid subarrays for all combinations that is if k=4. It will add the counts of k=1, k=2 and k=2. All of them will be counted since the algorithm moves progresses by subtracting k till 0. But that is not what we want. We don't need \"at most\" k frequency but exactly k frequency and hence subtract it wih k-1 at most function to give us the exact solution."
   ]
  },
  {
   "cell_type": "code",
   "execution_count": 28,
   "id": "c8646faf",
   "metadata": {},
   "outputs": [],
   "source": [
    "def atMostKDistinct(arr, k):\n",
    "    count = 0\n",
    "    left = 0\n",
    "    freq = {}\n",
    "    \n",
    "    for right in range(len(arr)):\n",
    "        if arr[right] in freq:\n",
    "            freq[arr[right]] += 1\n",
    "        else:\n",
    "            freq[arr[right]] = 1\n",
    "        \n",
    "        while len(freq) > k:\n",
    "            freq[arr[left]] -= 1\n",
    "            if freq[arr[left]] == 0:\n",
    "                del freq[arr[left]]\n",
    "            left += 1\n",
    "            \n",
    "        count += right - left + 1\n",
    "\n",
    "    return count"
   ]
  },
  {
   "cell_type": "code",
   "execution_count": 29,
   "id": "288a4361",
   "metadata": {},
   "outputs": [],
   "source": [
    "def subarraysWithKDistinct(arr, k):\n",
    "    return atMostKDistinct(arr, k) - atMostKDistinct(arr, k - 1)"
   ]
  },
  {
   "cell_type": "code",
   "execution_count": 30,
   "id": "61648942",
   "metadata": {},
   "outputs": [
    {
     "name": "stdout",
     "output_type": "stream",
     "text": [
      "Output for Example 1: 7\n"
     ]
    }
   ],
   "source": [
    "# Example usage\n",
    "arr1 = [1, 2, 1, 2, 3]\n",
    "k1 = 2\n",
    "print(\"Output for Example 1:\", subarraysWithKDistinct(arr1, k1))  # Output: 7"
   ]
  },
  {
   "cell_type": "code",
   "execution_count": 31,
   "id": "258dd006",
   "metadata": {},
   "outputs": [
    {
     "name": "stdout",
     "output_type": "stream",
     "text": [
      "Output for Example 2: 3\n"
     ]
    }
   ],
   "source": [
    "arr2 = [1, 2, 1, 3, 4]\n",
    "k2 = 3\n",
    "print(\"Output for Example 2:\", subarraysWithKDistinct(arr2, k2))  # Output: 3"
   ]
  },
  {
   "cell_type": "code",
   "execution_count": null,
   "id": "b28ec77a",
   "metadata": {},
   "outputs": [],
   "source": []
  }
 ],
 "metadata": {
  "kernelspec": {
   "display_name": "Python 3 (ipykernel)",
   "language": "python",
   "name": "python3"
  },
  "language_info": {
   "codemirror_mode": {
    "name": "ipython",
    "version": 3
   },
   "file_extension": ".py",
   "mimetype": "text/x-python",
   "name": "python",
   "nbconvert_exporter": "python",
   "pygments_lexer": "ipython3",
   "version": "3.12.3"
  }
 },
 "nbformat": 4,
 "nbformat_minor": 5
}
