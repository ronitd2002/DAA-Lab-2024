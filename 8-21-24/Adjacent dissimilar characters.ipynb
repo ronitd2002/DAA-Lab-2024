{
 "cells": [
  {
   "cell_type": "markdown",
   "id": "7b94b25c",
   "metadata": {},
   "source": [
    "Make a descending dictionary of characters based on character count. THen make an array with `n` size and start filling these characters based on frequency count first in even indices and then in odd indices. If there is a valid representation then this should yield an ideal result."
   ]
  },
  {
   "cell_type": "code",
   "execution_count": 5,
   "id": "c1b78822",
   "metadata": {},
   "outputs": [],
   "source": [
    "def rearrangeString(s):\n",
    "    freq = {}\n",
    "    for char in s:\n",
    "        freq[char] = freq.get(char, 0) + 1 # make frequency dictionary of characters\n",
    "    \n",
    "    # Sort characters by frequency in descending order\n",
    "    sorted_chars = sorted(freq, key=lambda x: -freq[x])\n",
    "    \n",
    "    result = [\"\"] * len(s)\n",
    "    index = 0\n",
    "\n",
    "    for char in sorted_chars:\n",
    "        count = freq[char]\n",
    "        for _ in range(count):\n",
    "            if index >= len(s):\n",
    "                index = 1\n",
    "            result[index] = char\n",
    "            index += 2\n",
    "    \n",
    "    rearranged = \"\".join(result)\n",
    "    for i in range(1, len(rearranged)):\n",
    "        if rearranged[i] == rearranged[i - 1]:\n",
    "            return \"\" \n",
    "    return rearranged"
   ]
  },
  {
   "cell_type": "code",
   "execution_count": 6,
   "id": "5df4cc29",
   "metadata": {},
   "outputs": [
    {
     "name": "stdout",
     "output_type": "stream",
     "text": [
      "Output for s1: ababa\n",
      "Output for s2: \n"
     ]
    }
   ],
   "source": [
    "s1 = \"aaabb\"\n",
    "s2 = \"aaab\"\n",
    "print(\"Output for s1:\", rearrangeString(s1))  # Output: \"ababa\"\n",
    "print(\"Output for s2:\", rearrangeString(s2))  # Output: \"\""
   ]
  },
  {
   "cell_type": "code",
   "execution_count": null,
   "id": "7917739c",
   "metadata": {},
   "outputs": [],
   "source": []
  }
 ],
 "metadata": {
  "kernelspec": {
   "display_name": "Python 3 (ipykernel)",
   "language": "python",
   "name": "python3"
  },
  "language_info": {
   "codemirror_mode": {
    "name": "ipython",
    "version": 3
   },
   "file_extension": ".py",
   "mimetype": "text/x-python",
   "name": "python",
   "nbconvert_exporter": "python",
   "pygments_lexer": "ipython3",
   "version": "3.12.3"
  }
 },
 "nbformat": 4,
 "nbformat_minor": 5
}
