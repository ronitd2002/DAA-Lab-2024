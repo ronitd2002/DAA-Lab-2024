{
 "cells": [
  {
   "cell_type": "markdown",
   "id": "98fcb5a5",
   "metadata": {},
   "source": [
    "# Heap Sort using `heapify()` and `BuildHeap()` from scratch."
   ]
  },
  {
   "cell_type": "markdown",
   "id": "0001d891",
   "metadata": {},
   "source": [
    "First build max heap. This can be done by first building a binary tree using each element. Once that is done we `buildHeap` where the parent root node is the largest element."
   ]
  },
  {
   "cell_type": "markdown",
   "id": "fdd3ed36",
   "metadata": {},
   "source": [
    "helper function to build max heap"
   ]
  },
  {
   "cell_type": "code",
   "execution_count": 1,
   "id": "685f14b6",
   "metadata": {},
   "outputs": [],
   "source": [
    "def heapify(arr, n, i):\n",
    "    largest = i       \n",
    "    left = 2 * i + 1  \n",
    "    right = 2 * i + 2 \n",
    "\n",
    "    if left < n and arr[left] > arr[largest]:\n",
    "        largest = left\n",
    "\n",
    "    if right < n and arr[right] > arr[largest]:\n",
    "        largest = right\n",
    "\n",
    "    if largest != i:\n",
    "        arr[i], arr[largest] = arr[largest], arr[i]\n",
    "        heapify(arr, n, largest)"
   ]
  },
  {
   "cell_type": "markdown",
   "id": "23a4265a",
   "metadata": {},
   "source": [
    "Builds max heap"
   ]
  },
  {
   "cell_type": "code",
   "execution_count": 2,
   "id": "15724f8d",
   "metadata": {},
   "outputs": [],
   "source": [
    "def buildHeap(arr, n):\n",
    "    for i in range(n // 2 - 1, -1, -1):\n",
    "        heapify(arr, n, i)"
   ]
  },
  {
   "cell_type": "code",
   "execution_count": 4,
   "id": "708096a9",
   "metadata": {},
   "outputs": [],
   "source": [
    "def heapSort(arr):\n",
    "    n = len(arr)\n",
    "    \n",
    "    buildHeap(arr, n)\n",
    "    \n",
    "    for i in range(n - 1, 0, -1):\n",
    "        arr[i], arr[0] = arr[0], arr[i]\n",
    "        heapify(arr, i, 0)"
   ]
  },
  {
   "cell_type": "code",
   "execution_count": 6,
   "id": "8dbecc38",
   "metadata": {},
   "outputs": [
    {
     "name": "stdout",
     "output_type": "stream",
     "text": [
      "Sorted array: [1, 3, 4, 5, 10]\n"
     ]
    }
   ],
   "source": [
    "arr = [4, 10, 3, 5, 1]\n",
    "heapSort(arr)\n",
    "print(\"Sorted array:\", arr)"
   ]
  },
  {
   "cell_type": "code",
   "execution_count": 10,
   "id": "effb4fc7",
   "metadata": {},
   "outputs": [
    {
     "data": {
      "text/plain": [
       "array([15, 34,  2,  0,  8, 28, 40, 33, 32, 37, 22, 30, 17,  7, 23, 14, 29,\n",
       "        6, 47, 36, 45, 31, 39, 13, 43, 24, 11, 46, 19, 38])"
      ]
     },
     "execution_count": 10,
     "metadata": {},
     "output_type": "execute_result"
    }
   ],
   "source": [
    "import numpy as np\n",
    "rand = np.random.choice(50,30,replace=False)\n",
    "rand"
   ]
  },
  {
   "cell_type": "code",
   "execution_count": 13,
   "id": "bbdd94cb",
   "metadata": {},
   "outputs": [
    {
     "data": {
      "text/plain": [
       "array([ True,  True,  True,  True,  True,  True,  True,  True,  True,\n",
       "        True,  True,  True,  True,  True,  True,  True,  True,  True,\n",
       "        True,  True,  True,  True,  True,  True,  True,  True,  True,\n",
       "        True,  True,  True])"
      ]
     },
     "execution_count": 13,
     "metadata": {},
     "output_type": "execute_result"
    }
   ],
   "source": [
    "validate = sorted(rand)\n",
    "heapSort(rand)\n",
    "rand == validate"
   ]
  },
  {
   "cell_type": "markdown",
   "id": "621bcf61",
   "metadata": {},
   "source": [
    "Hence our algoithm implementation is correct which sorts in nlogn time"
   ]
  }
 ],
 "metadata": {
  "kernelspec": {
   "display_name": "Python 3 (ipykernel)",
   "language": "python",
   "name": "python3"
  },
  "language_info": {
   "codemirror_mode": {
    "name": "ipython",
    "version": 3
   },
   "file_extension": ".py",
   "mimetype": "text/x-python",
   "name": "python",
   "nbconvert_exporter": "python",
   "pygments_lexer": "ipython3",
   "version": "3.12.3"
  }
 },
 "nbformat": 4,
 "nbformat_minor": 5
}
