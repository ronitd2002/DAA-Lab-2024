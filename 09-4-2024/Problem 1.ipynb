{
 "cells": [
  {
   "cell_type": "markdown",
   "id": "947294ee",
   "metadata": {},
   "source": [
    "# Problem 1"
   ]
  },
  {
   "cell_type": "code",
   "execution_count": 5,
   "id": "9888f56a",
   "metadata": {},
   "outputs": [],
   "source": [
    "class chain:\n",
    "\n",
    "    def __init__(self, size, maxtab):\n",
    "        self.size = size \n",
    "        self.maxtab = maxtab \n",
    "        self.table = [[None for _ in range(maxtab)] for _ in range(size)]\n",
    "\n",
    "    def hash_function(self,key): \n",
    "        return key%self.size\n",
    "\n",
    "    def insert(self, key, value): \n",
    "        index = self.hash_function(key) \n",
    "        for j in range(self.maxtab): \n",
    "            if self.table[index][j] is None: \n",
    "                self.table[index][j] = key \n",
    "                return [index,j] \n",
    "        print(f\"Bucket {index} is full cannot insert {key}\")\n",
    "\n",
    "    def delete(self,key): \n",
    "        index = self.hash_function(key) \n",
    "        for j in range(maxtab): \n",
    "            if self.table[index][j] == key: \n",
    "                self.table[index][j] == None \n",
    "                return [index,j] \n",
    "        print(f\"key {key} not found\")\n",
    "\n",
    "    def search(self,key): \n",
    "        index = self.hash_function(key) \n",
    "        for j in range(maxtab): \n",
    "            if self.table[index][j] == key: \n",
    "                return [index,j]\n",
    "        return None"
   ]
  },
  {
   "cell_type": "code",
   "execution_count": 6,
   "id": "2acdd174",
   "metadata": {},
   "outputs": [],
   "source": [
    "class linearprobe:\n",
    "\n",
    "    def __init__(self,size): \n",
    "        self.size = size \n",
    "        self.table = [None]*size\n",
    "\n",
    "    def hash_function(self,key):\n",
    "        return key % self.size\n",
    "\n",
    "    def insert(self, key, value): \n",
    "        index = self.hash_function(key) \n",
    "        temp = index \n",
    "        while self.table[index] is not None: \n",
    "            index = (index+1)%self.size \n",
    "            if index == temp: \n",
    "                print(f\"Hash table is full!\") \n",
    "        self.table[index] = key \n",
    "        return index\n",
    "\n",
    "    def delete(self,key): \n",
    "        index = self.hash_function(key)\n",
    "        temp = index \n",
    "        while self.table[index] is not None: \n",
    "            if self.table[index] == key: \n",
    "                self.table[index] = None \n",
    "                return index \n",
    "            index = (index+1)% self.size \n",
    "            if index == temp:\n",
    "                break \n",
    "        print(f\"Key not found!\")\n",
    "\n",
    "    def search(self,key): \n",
    "        index = self.hash_function(key) \n",
    "        temp = index \n",
    "        while self.table[index] is not None: \n",
    "            if self.table[index] == key:\n",
    "                return index \n",
    "            index = (index+1)%self.size \n",
    "            if index == temp: \n",
    "                break \n",
    "        return None"
   ]
  },
  {
   "cell_type": "code",
   "execution_count": 9,
   "id": "a0ca7bf1",
   "metadata": {},
   "outputs": [
    {
     "name": "stdout",
     "output_type": "stream",
     "text": [
      "0\n",
      "1\n",
      "2\n",
      "3\n",
      "4\n",
      "2\n",
      "1\n"
     ]
    }
   ],
   "source": [
    "new = linearprobe(size = 5)\n",
    "\n",
    "print(new.insert(5,18))\n",
    "print(new.insert(15,20))\n",
    "print(new.insert(25,30))\n",
    "print(new.insert(35,40))\n",
    "print(new.insert(45,50))\n",
    "print(new.delete(25))\n",
    "print(new.search(15))"
   ]
  },
  {
   "cell_type": "code",
   "execution_count": null,
   "id": "cba52fae",
   "metadata": {},
   "outputs": [],
   "source": []
  }
 ],
 "metadata": {
  "kernelspec": {
   "display_name": "Python 3 (ipykernel)",
   "language": "python",
   "name": "python3"
  },
  "language_info": {
   "codemirror_mode": {
    "name": "ipython",
    "version": 3
   },
   "file_extension": ".py",
   "mimetype": "text/x-python",
   "name": "python",
   "nbconvert_exporter": "python",
   "pygments_lexer": "ipython3",
   "version": "3.11.5"
  },
  "widgets": {
   "application/vnd.jupyter.widget-state+json": {
    "state": {},
    "version_major": 2,
    "version_minor": 0
   }
  }
 },
 "nbformat": 4,
 "nbformat_minor": 5
}
