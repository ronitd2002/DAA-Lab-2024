{
 "cells": [
  {
   "cell_type": "markdown",
   "id": "05d28c10-ac3d-4713-b104-52ec5681a652",
   "metadata": {},
   "source": [
    "# Problem 1 - Date 7-8-2024"
   ]
  },
  {
   "cell_type": "markdown",
   "id": "74bd51ef-0782-4222-b19b-6f586bea3f71",
   "metadata": {},
   "source": [
    "## Short solution"
   ]
  },
  {
   "cell_type": "code",
   "execution_count": 1,
   "id": "44203a0a-a8f7-4844-bf69-1ea655f72452",
   "metadata": {},
   "outputs": [],
   "source": [
    "import numpy as np\n",
    "import matplotlib.pyplot as plt"
   ]
  },
  {
   "cell_type": "code",
   "execution_count": 2,
   "id": "f9919999-de9a-45b2-bcae-3d2956c68ee3",
   "metadata": {},
   "outputs": [
    {
     "name": "stdout",
     "output_type": "stream",
     "text": [
      "[[993 500 868]\n",
      " [613 614 609]]\n",
      "\n",
      " [[947  54 995 464]\n",
      " [751 841 944 867]\n",
      " [241  87 235 479]]\n"
     ]
    }
   ],
   "source": [
    "rownum1, samenum, colnum2 = 2,3,4\n",
    "\n",
    "matrix_1 = np.random.randint(0,1000, size= (rownum1,samenum))\n",
    "matrix_2 = np.random.randint(0,1000, size= (samenum,colnum2))\n",
    "\n",
    "print(matrix_1)\n",
    "print(\"\\n\",matrix_2)"
   ]
  },
  {
   "cell_type": "code",
   "execution_count": 3,
   "id": "3241d634-6edc-49e5-a414-95b0f1556564",
   "metadata": {},
   "outputs": [
    {
     "name": "stdout",
     "output_type": "stream",
     "text": [
      "The product of the two matrices are\n",
      "[[1525059  549638 1664015 1310024]\n",
      " [1188394  602459 1332666 1108481]]\n"
     ]
    }
   ],
   "source": [
    "print(\"The product of the two matrices are\")\n",
    "print(matrix_1 @ matrix_2)"
   ]
  },
  {
   "cell_type": "markdown",
   "id": "83a94f49-1478-452f-96f8-f90ced03fb91",
   "metadata": {},
   "source": [
    "## Step by step solving"
   ]
  },
  {
   "cell_type": "code",
   "execution_count": 4,
   "id": "a2173a39-b5d9-4f5c-a213-493a874bab38",
   "metadata": {},
   "outputs": [],
   "source": [
    "def matmul(a1,a2):\n",
    "\n",
    "    # algorithm - \n",
    "    # element wise multiplication. iterate starting with row wise method for first matrix and col wise for second matrix\n",
    "    # a,b are elements in a1 row and a2 col respectively\n",
    "    # first for loop iterates the elements in zip(a1 row, a2 col)\n",
    "    # second for loop iterates the columns of second matrix\n",
    "    # final for loop iterates rows of first matrix\n",
    "    result = [[sum(a*b for a, b in zip(a1row, a2col)) for a2col in zip(*a2)] for a1row in a1]\n",
    "    return result"
   ]
  },
  {
   "cell_type": "code",
   "execution_count": 5,
   "id": "c97ad7d9-8163-49eb-a68b-9d84e6f63717",
   "metadata": {},
   "outputs": [
    {
     "name": "stdout",
     "output_type": "stream",
     "text": [
      "result\n",
      "[[1525059, 549638, 1664015, 1310024], [1188394, 602459, 1332666, 1108481]]\n"
     ]
    }
   ],
   "source": [
    "print(\"result\")\n",
    "print(list(matmul(matrix_1,matrix_2)))"
   ]
  },
  {
   "cell_type": "code",
   "execution_count": null,
   "id": "35bc0415-fd3a-463c-8214-3f6f800c0acb",
   "metadata": {},
   "outputs": [],
   "source": []
  }
 ],
 "metadata": {
  "kernelspec": {
   "display_name": "Python 3 (ipykernel)",
   "language": "python",
   "name": "python3"
  },
  "language_info": {
   "codemirror_mode": {
    "name": "ipython",
    "version": 3
   },
   "file_extension": ".py",
   "mimetype": "text/x-python",
   "name": "python",
   "nbconvert_exporter": "python",
   "pygments_lexer": "ipython3",
   "version": "3.11.5"
  }
 },
 "nbformat": 4,
 "nbformat_minor": 5
}
