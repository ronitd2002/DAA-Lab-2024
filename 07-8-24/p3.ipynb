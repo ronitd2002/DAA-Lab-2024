{
 "cells": [
  {
   "cell_type": "markdown",
   "id": "fc795865-c6b8-4385-b555-f2f4e3370b17",
   "metadata": {},
   "source": [
    "# Problem 3 - Date 7-8-2024"
   ]
  },
  {
   "cell_type": "code",
   "execution_count": 1,
   "id": "2f616f45-445b-49d8-b0c5-e8bfbc7f8329",
   "metadata": {},
   "outputs": [],
   "source": [
    "import numpy as np\n",
    "import matplotlib.pyplot as plt"
   ]
  },
  {
   "cell_type": "code",
   "execution_count": 24,
   "id": "9f82cbf5-fd7c-491d-80e6-6721998756ff",
   "metadata": {},
   "outputs": [
    {
     "name": "stdout",
     "output_type": "stream",
     "text": [
      "50\n"
     ]
    },
    {
     "data": {
      "text/plain": [
       "array([739, 180,  93, 530, 921, 680, 632, 736, 490, 744, 506,  78, 883,\n",
       "       228, 303, 418, 405,   0, 786,  10, 336, 162, 337, 108, 170, 801,\n",
       "       739, 160, 400, 419, 837, 843, 498, 236, 172, 133, 177, 393, 384,\n",
       "       927, 341, 236, 976, 965, 474, 125, 461, 947, 228, 601])"
      ]
     },
     "execution_count": 24,
     "metadata": {},
     "output_type": "execute_result"
    }
   ],
   "source": [
    "n = 50\n",
    "workarr = np.random.randint(0,1000,n)\n",
    "print(len(workarr))\n",
    "workarr"
   ]
  },
  {
   "cell_type": "code",
   "execution_count": 21,
   "id": "fa92fa86-4432-4d2d-bcc5-9f116e7dd08c",
   "metadata": {},
   "outputs": [],
   "source": [
    "# Function to partition the array as per normal quicksort scheme\n",
    "def partition_left(arr, low, high):\n",
    "    pivot = arr[high]\n",
    "    i = low\n",
    "    for j in range(low, high):\n",
    "        if arr[j] <= pivot:\n",
    "            arr[i], arr[j] = arr[j], arr[i]\n",
    "            i += 1\n",
    "    arr[i], arr[high] = arr[high], arr[i]\n",
    "    return i\n",
    "\n",
    "# Function to perform random partition for randomized pivot selection\n",
    "def partition_right(arr, low, high):\n",
    "    r = np.random.randint(low, high) # random pivot not necessarily the last element of the array\n",
    "    arr[r], arr[high] = arr[high], arr[r]\n",
    "    return partition_left(arr, low, high)"
   ]
  },
  {
   "cell_type": "code",
   "execution_count": 22,
   "id": "5d94d004-00c7-4363-91c3-a5dcce4fe5d0",
   "metadata": {},
   "outputs": [],
   "source": [
    "# Recursive function for quicksort that partitions the array after the pivot is set in the correct position\n",
    "def quicksort(arr, low, high):\n",
    "    if low < high:\n",
    "        p = partition_right(arr, low, high)\n",
    "        quicksort(arr, low, p - 1)\n",
    "        quicksort(arr, p + 1, high)"
   ]
  },
  {
   "cell_type": "code",
   "execution_count": 23,
   "id": "12c2ed63-2f81-4255-ae9f-fab1850263ba",
   "metadata": {},
   "outputs": [
    {
     "name": "stdout",
     "output_type": "stream",
     "text": [
      "Sorted array:\n",
      "[ 37  39  66  68  76  78 108 126 146 152 168 190 195 206 208 225 230 255\n",
      " 257 269 277 284 286 303 328 333 337 387 387 454 455 535 548 561 565 597\n",
      " 620 622 652 691 722 781 782 834 865 865 897 914 945 969]\n"
     ]
    }
   ],
   "source": [
    "quicksort(workarr, 0, n - 1)\n",
    "print(\"Sorted array:\")\n",
    "print(workarr)"
   ]
  },
  {
   "cell_type": "code",
   "execution_count": null,
   "id": "863c2e51-5aad-42f0-a2ca-0e8818bcca1e",
   "metadata": {},
   "outputs": [],
   "source": []
  }
 ],
 "metadata": {
  "kernelspec": {
   "display_name": "Python 3 (ipykernel)",
   "language": "python",
   "name": "python3"
  },
  "language_info": {
   "codemirror_mode": {
    "name": "ipython",
    "version": 3
   },
   "file_extension": ".py",
   "mimetype": "text/x-python",
   "name": "python",
   "nbconvert_exporter": "python",
   "pygments_lexer": "ipython3",
   "version": "3.11.5"
  }
 },
 "nbformat": 4,
 "nbformat_minor": 5
}
